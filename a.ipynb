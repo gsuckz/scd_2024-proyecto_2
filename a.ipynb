{
 "cells": [
  {
   "cell_type": "code",
   "execution_count": 77,
   "metadata": {},
   "outputs": [],
   "source": [
    "import string\n",
    "\n",
    "\n",
    "def generar_tablas_markov(archivo,n):\n",
    "    tabla = {}\n",
    "    estado = []\n",
    "\n",
    "    with open(archivo , 'r', encoding='utf-8') as archivo:\n",
    "        texto = archivo.read()\n",
    "        palabras = texto.split()\n",
    "        if len(palabras) <= n:\n",
    "            return 0\n",
    "        for i in range(0,n):\n",
    "            estado.append(palabras[i])\n",
    "            palabras.append(palabras[i])\n",
    "        for i in range(n,len(palabras)):\n",
    "            palabra_leida = palabras[i]\n",
    "            estadoString = tuple(estado)\n",
    "            if estadoString in tabla:\n",
    "                if palabra_leida in tabla[estadoString]:\n",
    "                    tabla[estadoString][palabra_leida] += 1\n",
    "                else:\n",
    "                    tabla[estadoString][palabra_leida] = 1\n",
    "            else:\n",
    "                tabla[estadoString] = {}\n",
    "                tabla[estadoString][palabra_leida] = 1\n",
    "            estado.append(palabra_leida)\n",
    "            estado.remove(estado[0])\n",
    "        tabla[estadoString]\n",
    "    return tabla"
   ]
  },
  {
   "cell_type": "code",
   "execution_count": 78,
   "metadata": {},
   "outputs": [],
   "source": [
    "import random\n",
    "class markov:\n",
    "    def __init__(self,tabla):\n",
    "        self.estado = random.choice(list(tabla.keys()))\n",
    "        self.tabla = tabla\n",
    "        return\n",
    "\n",
    "\n",
    "    def markovGen(self):\n",
    "        palabra_generada = random.choices(list(self.tabla[self.estado].keys()), weights=list(self.tabla[self.estado].values()))\n",
    "        self.estado = self.estado[1:] + (palabra_generada[0],)\n",
    "        return palabra_generada[0]\n",
    "    \n",
    "    def markovGenTexto(self,k):\n",
    "        texto = \"\"\n",
    "        for i in range(0,k):\n",
    "            texto = texto + self.markovGen() + \" \"\n",
    "        return texto\n",
    "\n",
    "        \n"
   ]
  },
  {
   "cell_type": "code",
   "execution_count": 79,
   "metadata": {},
   "outputs": [
    {
     "data": {
      "text/plain": [
       "'o alrededor dellas, grabaremos en los pasados siglos que solapar pretenden las hazañas del temerario más se escudriñan cuanto es o no contrecho Rocinante, o deslocado su amo; y él estarse quedo, esperando a su lado la señora a paso tirado, sin despedirse Panza de sus ánimos; destos que, queriendo mostrar a los libros y autores de donde salió herido Tomasillo el Travieso, el hijo de padres demasiado de bien, y hable Sancho Panza, a quien imitáis! Volved, volved, amiga; que si aliquando bonus dormitat Homerus, consideren lo mucho que, habiendo cogido al Caballero de la corte; y, con todo mi cuerpo; y así como yo soy inútil para ningún humano regalo! ¡Oh, cuán bien le parecían de perlas, a uso de moros cuando entran en las mejillas. La duquesa rogó a Pedro le había conocido), se llegó a este punto. Porque, ¿qué razones serán bastantes a sacármela de las ruedas, salieron con su salud, no se hallaba delante de los acostumbrados sonetos, epigramas o elogios que os dé con su larga arenga. Al cabo de tanto dolor no se hartaban de dar de improviso la asaltásemos antes del día, o como las lloraba aquel simple doctor que nuestro zagal dijo que procurase ser arzobispo; pero él hacía la sombra, cuanto más que, mientras más os diga. »Esta carta recibió Anselmo, y yo me mostré y mis vecinas que, si él cae en el señor Sancho Panza tuvo con unos cueros de vino tinto que nada ignora, y es la más menesterosa, y le pusieron al licenciado sus vestidos, y la aprobación, tasa y erratas, ni lo pienso ser, no habrá llegado! —replicó don Quijote—, señor cura, no es tan loco que hay en el ínterin y sintiese el ruido del agua una serpiente enroscada a los tales suelen decir, y os encamino a la labradora, se le igualen. — Así lo has de sentar; porque a buena fe que se concluya este negocio importa y hace la noche escura, el escudero tan bien como aquélla. — Y ¿a quién quieres tú ahora, Anselmo: ¿cuál destas dos cosas, le puse más de limpio que no se podrán sustentar sin ellas, no quería con don Fernando, y su señor don Quijote con las raras y peregrinas invenciones que la escoja hacia la corva izquierda, alzó la cabeza y vio que decía se hicieron en la tienda de algún provecho para dejar corrido y el rostro y hizo otras cien mil libros de caballerías en que vuesa merced caballero a escudero. Así que, Sancho amigo, la puerta, adonde estaban jugando hasta una docena de aquellos que, dejando la blanda cama del celoso marido, por no embestir en ella; y vio la vez primera, cuando de Bretaña vino, que damas curaban dél, y dueñas del su rocino, y, sobre todo, aviso a los duques del disgusto que mostraba tomar el cuento que le tengo de serviros. Las mozas, que no carecen de armas ascuras, como los suele ahorcar la justicia distributiva. Hecho esto, me atrevería yo a quedar deshonrado, y, por acudir con lo que creo, sapos y culebras. ¡Desdichado de mí se me han visto; que a la Fama que eternice; fui comedido y bien nacidos; y, como teníamos quien lo contrario hiciere, de la honra de mi sueño me levante y me afirmo que fue que, cuando vemos alguna persona tal, que por Dios que si querían agua barata, que se mudaban los nombres como diferentes en las cuales no les dejaba ver cosa alguna; los muslos cubrían unos calzones, al parecer de ser quemados, como los frailecicos que hacen letra procesada, que no lo es en ninguna manera, y caería en mal hora se os diga: volveos a vuestra merced un lunar pardo con ciertos cabellos a manera de bigote, con siete suelas de hierro. Aunque no le quiso hacer de las dos señoras fueron desdichadísimas, por no ensuciar la cara, trae las armas traía una sobrevista o casaca de paño de tocar, que sacó debajo de unos cristianos ya libres que venían los frailes venían, y, en dándomela, ¿a quién quieres tú que dicen \"cada oveja con su gordura y pequeñez del nuevo pleito. Sancho se levantaron todos, y en un punto ni defraudó nada de omecillos —respondió Sancho—, que término lleva de caminar a pie. Apenas los vio don Quijote, y es honra, gloria y fama, y que no acabarás de venir a ser limitados, les hacen trabajar y ir a ellas, y que debe de ser guiadas por encantamento. Sancho fue a do estaba la disfrazada doncella; y el decoro que a su señora Dulcinea, que yo recibo tanta pena cual Dios se la cerremos; dejémonos llevar deste viento favorable que nos diese noticia su autor aquel acabar su batalla, que allí se renovaron las maldiciones que las lágrimas de Dorotea; y que, pues a todas partes, y no en aquella casa vivía, y si no, por Dios que traéis las manos y con esto la noche iba casi en dos tablas a tierra, porque ansí el bajel no se veen al vivo un asno suyo que la conozco —dijo Sancho—, no es de la mujer buena como tú, señor y amo mío, en su estancia, y, abriendo con llave maestra, vieron al pobre caído tantas arrogancias, no lo podía hacer a los suyos, bañados de licor amoroso el rostro y olfato en las armas, sin quitarlos por un aragonés, que él vea con mi destreza moderna y zafia, en quien no valen ruegos, no promesas, no dádivas, no lástimas; porque, aunque la hambre y necesidad, vio, no lejos de parecer a su padre en el grado que desean; el cual si no puedo entender cómo podrás poner por obra su intención generosa, que sean tan tercas y tan temerosa aventura, tendrá cuidado de quitarnos las vidas, con cuyos despojos comenzaremos a enriquecer; que ésta es una de las más nuevas consejas, cuento o historia, que al tiempo de Carlomagno; que voto a Júpiter, cuya majestad yo '"
      ]
     },
     "execution_count": 79,
     "metadata": {},
     "output_type": "execute_result"
    }
   ],
   "source": [
    "fuente = markov(generar_tablas_markov(\"Quijote.txt\",2))\n",
    "fuente.estado\n",
    "\n",
    "fuente.markovGen()\n",
    "fuente.markovGenTexto(1000)\n"
   ]
  },
  {
   "cell_type": "code",
   "execution_count": 80,
   "metadata": {},
   "outputs": [],
   "source": [
    "import math\n",
    "\n",
    "\n",
    "def moverVentana(ventana, c):\n",
    "    ventana = list(ventana[1:])\n",
    "    ventana.append(c)\n",
    "    return \n",
    "def unBin(valor):\n",
    "    #for i in range(0,math.log2(n)):\n",
    "    #    prefijo = prefijo + \"0\"\n",
    "    prefijo = []\n",
    "    candena_binaria = str( bin(valor)[2:])\n",
    "    #for f in range(0,len(candena_binaria)-1):\n",
    "    #    prefijo.append('0')\n",
    "    #unbin = str(prefijo) + candena_binaria\n",
    "    unbin = candena_binaria.zfill(2*len(candena_binaria) -1)\n",
    "    return unbin\n",
    "\n",
    "def convertirABinarioLFija(n,l):\n",
    "    cadena_binaria = bin(n)[2:]\n",
    "    cadena_binaria = str(cadena_binaria.zfill(l))\n",
    "    return cadena_binaria\n",
    "\n",
    "\n"
   ]
  },
  {
   "cell_type": "code",
   "execution_count": 81,
   "metadata": {},
   "outputs": [],
   "source": [
    "def caracterABinario(texto):\n",
    "    return ''.join(format(byte,'08b') for byte in texto.encode('utf-8'))"
   ]
  },
  {
   "cell_type": "code",
   "execution_count": 82,
   "metadata": {},
   "outputs": [],
   "source": [
    "#def BinarioACaracter(bits):\n",
    "#    lista_de_bits = []\n",
    "#    for i in range(0,len(bits)):\n",
    "#        print(i)\n",
    "#        print(bits[i*8:(i+1)*8 - 1])\n",
    "#        x = int(bits[i*8:(i+1)*8], 2)\n",
    "#        #print(x)\n",
    "#        lista_de_bits.append(chr(x))\n",
    "#    return lista_de_bits\n",
    "\n",
    "def BinarioACaracter(binary_str):\n",
    "    # Asegúrate de que la cadena tiene una longitud múltiplo de 8\n",
    "    if len(binary_str) % 8 != 0:\n",
    "        raise ValueError(\"La cadena binaria debe tener una longitud múltiplo de 8.\")\n",
    "\n",
    "    # Convertir bloques de 8 bits a caracteres\n",
    "    utf8_chars = []\n",
    "    for i in range(0, len(binary_str), 8):\n",
    "        byte_str = binary_str[i:i+8]\n",
    "        byte_value = int(byte_str, 2)  # Convertir binario a decimal\n",
    "        utf8_chars.append(chr(byte_value))  # Convertir decimal a carácter\n",
    "\n",
    "    return ''.join(utf8_chars)\n",
    "\n"
   ]
  },
  {
   "cell_type": "code",
   "execution_count": 83,
   "metadata": {},
   "outputs": [
    {
     "data": {
      "text/plain": [
       "'\\x15'"
      ]
     },
     "execution_count": 83,
     "metadata": {},
     "output_type": "execute_result"
    }
   ],
   "source": [
    "BinarioACaracter(\"00010101\")"
   ]
  },
  {
   "cell_type": "code",
   "execution_count": 84,
   "metadata": {},
   "outputs": [
    {
     "data": {
      "text/plain": [
       "'HOALSDf'"
      ]
     },
     "execution_count": 84,
     "metadata": {},
     "output_type": "execute_result"
    }
   ],
   "source": [
    "BinarioACaracter(caracterABinario(\"HOALSDf\"))"
   ]
  },
  {
   "cell_type": "code",
   "execution_count": 155,
   "metadata": {},
   "outputs": [],
   "source": [
    "class lz77(object):\n",
    "    def __init__(self,l_ventana):\n",
    "        self.l_ventana = l_ventana\n",
    "        self.posicion = l_ventana\n",
    "        self.cadena = []\n",
    "        self.offset = 0\n",
    "        self.offset_max = 0\n",
    "        self.n = 1\n",
    "        self.salida = []\n",
    "\n",
    "    def encuentraCoincidencia(self): #Busca ultima coicidencia\n",
    "        #self.offset +=1\n",
    "        if self.offset >= self.l_ventana:\n",
    "            return False\n",
    "        for i in range(self.offset + 1 , self.l_ventana):\n",
    "            if  (self.cadena[self.posicion -  i] == self.cadena[self.posicion]):\n",
    "                self.offset = i\n",
    "                return  True\n",
    "        return False\n",
    "          \n",
    "    def buscaDiferencia(self):\n",
    "        i=1\n",
    "        while True:\n",
    "            if self.posicion + i  >= len(self.cadena):\n",
    "                break\n",
    "            if self.cadena[self.posicion - self.offset + i%(self.offset)] != self.cadena[self.posicion + i]:\n",
    "                break\n",
    "            i = i+1\n",
    "        if self.n < i:\n",
    "            self.n=i\n",
    "            self.offset_max = self.offset\n",
    "        return\n",
    "        \n",
    "    def buscaCoincidenciaMasLarga(self):\n",
    "        self.offset = 0\n",
    "        self.offset_max = 0\n",
    "        self.n = 1\n",
    "        while self.encuentraCoincidencia():\n",
    "            self.buscaDiferencia()\n",
    "        return \n",
    "    \n",
    "    def escribir(self):\n",
    "        match self.n:\n",
    "            case 1:\n",
    "                self.salida = self.salida + \"1\"\n",
    "                #self.salida = self.salida + self.cadena[self.posicion]\n",
    "                self.salida = self.salida + caracterABinario(self.cadena[self.posicion])\n",
    "                \n",
    "            case 2:\n",
    "                self.salida = self.salida + \"1\"\n",
    "                #self.salida = self.salida + self.cadena[self.posicion]             \n",
    "                self.salida = self.salida + caracterABinario(self.cadena[self.posicion])\n",
    "                self.salida = self.salida + \"1\"\n",
    "                #self.salida = self.salida + self.cadena[self.posicion+1]  \n",
    "                self.salida = self.salida + caracterABinario(self.cadena[self.posicion+1])\n",
    "            case _:\n",
    "                self.salida = self.salida + unBin(self.n) + convertirABinarioLFija(self.offset_max,  int(math.log2(self.l_ventana)))\n",
    "\n",
    "    def moverVentana(self):\n",
    "        #Seria mejor quitar elementos de cadena antes que mover posicion?\n",
    "        self.posicion = self.posicion + self.n\n",
    "        self.n = 1\n",
    "\n",
    "    def codifica(self, cadena): #len(cadena) debe ser mayor a 1 ¿O a la l_ventana?\n",
    "        #Que pasa si recibe una cadena mas corta que la ventana??\n",
    "        self.cadena = cadena\n",
    "        self.posicion = self.l_ventana\n",
    "        self.salida = caracterABinario(self.cadena[:self.l_ventana])\n",
    "        while True:\n",
    "            self.buscaCoincidenciaMasLarga()\n",
    "            self.escribir()\n",
    "            self.moverVentana()\n",
    "            if self.posicion == len(cadena):\n",
    "                break\n",
    "        return self.salida\n",
    "\n",
    "    def decodifica(self, cadena):\n",
    "        self.cadena = cadena\n",
    "        self.salida = BinarioACaracter(cadena[0:8*self.l_ventana])\n",
    "        self.posicion = self.l_ventana*8\n",
    "        while self.posicion < len(self.cadena):\n",
    "            if self.cadena[self.posicion] == '1':\n",
    "                print(\"LITERAL\")\n",
    "                #self.posicion +=1\n",
    "                #self.salida = self.salida + (self.cadena[self.posicion])\n",
    "                #self.posicion +=1\n",
    "                self.posicion +=1\n",
    "                self.salida = self.salida + BinarioACaracter(self.cadena[self.posicion:self.posicion+8])\n",
    "                self.posicion +=8\n",
    "            elif self.cadena[self.posicion] == '0':\n",
    "                print(\"SHIFT\")\n",
    "                n_cero=1\n",
    "                while  self.cadena[self.posicion + n_cero] == '0':\n",
    "                    print(self.salida)\n",
    "                    n_cero +=1                            \n",
    "                    if self.posicion + n_cero >= len(cadena):\n",
    "                        print(\"ERROR XD\")\n",
    "                        break \n",
    "                n = int(self.cadena[self.posicion+n_cero : self.posicion+2*n_cero+1],2)\n",
    "                self.posicion= self.posicion + 2*n_cero +1\n",
    "                pos = int(self.cadena[self.posicion:(self.posicion  + int(math.log2(self.l_ventana)))],2)\n",
    "                for i in range(0,n):\n",
    "                    #print(\"POSICION\")\n",
    "                    #print(len(self.salida)-pos)\n",
    "                    #print(len(self.salida))\n",
    "                                        \n",
    "                    self.salida = self.salida + self.salida[len(self.salida)-pos]   \n",
    "                a = (self.posicion +int(math.log2(self.l_ventana)) )\n",
    "                if a < len(self.cadena):\n",
    "                    self.posicion = a\n",
    "                else:\n",
    "                    break\n",
    "            else:\n",
    "                print(\"XD\")\n",
    "                print(self.posicion)\n",
    "                print(self.cadena[self.posicion-1::])\n",
    "                break\n",
    "            print(self.salida)\n",
    "\n",
    "        return self.salida"
   ]
  },
  {
   "cell_type": "code",
   "execution_count": 157,
   "metadata": {},
   "outputs": [
    {
     "name": "stdout",
     "output_type": "stream",
     "text": [
      "lugar le enseñase \n",
      "011011000111010101100111011000010111001000100000011011000110010110010000010110010110110111010111001110110010111100001110110001101100001101110011101100101100100000\n",
      "LITERAL\n",
      "lugar le \n",
      "LITERAL\n",
      "lugar le e\n",
      "LITERAL\n",
      "lugar le en\n",
      "LITERAL\n",
      "lugar le ens\n",
      "LITERAL\n",
      "lugar le ense\n",
      "LITERAL\n",
      "lugar le enseÃ\n",
      "LITERAL\n",
      "lugar le enseÃc\n",
      "SHIFT\n"
     ]
    },
    {
     "ename": "IndexError",
     "evalue": "string index out of range",
     "output_type": "error",
     "traceback": [
      "\u001b[0;31m---------------------------------------------------------------------------\u001b[0m",
      "\u001b[0;31mIndexError\u001b[0m                                Traceback (most recent call last)",
      "Cell \u001b[0;32mIn[157], line 11\u001b[0m\n\u001b[1;32m      9\u001b[0m \u001b[38;5;28mprint\u001b[39m(cadena2)\n\u001b[1;32m     10\u001b[0m \u001b[38;5;66;03m#cadena3= \"XD\"\u001b[39;00m\n\u001b[0;32m---> 11\u001b[0m cadena3 \u001b[38;5;241m=\u001b[39m\u001b[43mcomp\u001b[49m\u001b[38;5;241;43m.\u001b[39;49m\u001b[43mdecodifica\u001b[49m\u001b[43m(\u001b[49m\u001b[43mcadena2\u001b[49m\u001b[43m)\u001b[49m\n\u001b[1;32m     12\u001b[0m \u001b[38;5;28mprint\u001b[39m(cadena3)\n\u001b[1;32m     13\u001b[0m \u001b[38;5;28;01mif\u001b[39;00m cadena \u001b[38;5;241m==\u001b[39m (cadena3):\n",
      "Cell \u001b[0;32mIn[155], line 107\u001b[0m, in \u001b[0;36mlz77.decodifica\u001b[0;34m(self, cadena)\u001b[0m\n\u001b[1;32m    101\u001b[0m pos \u001b[38;5;241m=\u001b[39m \u001b[38;5;28mint\u001b[39m(\u001b[38;5;28mself\u001b[39m\u001b[38;5;241m.\u001b[39mcadena[\u001b[38;5;28mself\u001b[39m\u001b[38;5;241m.\u001b[39mposicion:(\u001b[38;5;28mself\u001b[39m\u001b[38;5;241m.\u001b[39mposicion  \u001b[38;5;241m+\u001b[39m \u001b[38;5;28mint\u001b[39m(math\u001b[38;5;241m.\u001b[39mlog2(\u001b[38;5;28mself\u001b[39m\u001b[38;5;241m.\u001b[39ml_ventana)))],\u001b[38;5;241m2\u001b[39m)\n\u001b[1;32m    102\u001b[0m \u001b[38;5;28;01mfor\u001b[39;00m i \u001b[38;5;129;01min\u001b[39;00m \u001b[38;5;28mrange\u001b[39m(\u001b[38;5;241m0\u001b[39m,n):\n\u001b[1;32m    103\u001b[0m     \u001b[38;5;66;03m#print(\"POSICION\")\u001b[39;00m\n\u001b[1;32m    104\u001b[0m     \u001b[38;5;66;03m#print(len(self.salida)-pos)\u001b[39;00m\n\u001b[1;32m    105\u001b[0m     \u001b[38;5;66;03m#print(len(self.salida))\u001b[39;00m\n\u001b[0;32m--> 107\u001b[0m     \u001b[38;5;28mself\u001b[39m\u001b[38;5;241m.\u001b[39msalida \u001b[38;5;241m=\u001b[39m \u001b[38;5;28mself\u001b[39m\u001b[38;5;241m.\u001b[39msalida \u001b[38;5;241m+\u001b[39m \u001b[38;5;28;43mself\u001b[39;49m\u001b[38;5;241;43m.\u001b[39;49m\u001b[43msalida\u001b[49m\u001b[43m[\u001b[49m\u001b[38;5;28;43mlen\u001b[39;49m\u001b[43m(\u001b[49m\u001b[38;5;28;43mself\u001b[39;49m\u001b[38;5;241;43m.\u001b[39;49m\u001b[43msalida\u001b[49m\u001b[43m)\u001b[49m\u001b[38;5;241;43m-\u001b[39;49m\u001b[43mpos\u001b[49m\u001b[43m]\u001b[49m   \n\u001b[1;32m    108\u001b[0m a \u001b[38;5;241m=\u001b[39m (\u001b[38;5;28mself\u001b[39m\u001b[38;5;241m.\u001b[39mposicion \u001b[38;5;241m+\u001b[39m\u001b[38;5;28mint\u001b[39m(math\u001b[38;5;241m.\u001b[39mlog2(\u001b[38;5;28mself\u001b[39m\u001b[38;5;241m.\u001b[39ml_ventana)) )\n\u001b[1;32m    109\u001b[0m \u001b[38;5;28;01mif\u001b[39;00m a \u001b[38;5;241m<\u001b[39m \u001b[38;5;28mlen\u001b[39m(\u001b[38;5;28mself\u001b[39m\u001b[38;5;241m.\u001b[39mcadena):\n",
      "\u001b[0;31mIndexError\u001b[0m: string index out of range"
     ]
    }
   ],
   "source": [
    "comp = lz77(8)\n",
    "fuente = markov(generar_tablas_markov(\"Quijote.txt\",2))\n",
    "cadena = \"ASDaksdjasvdASDASDxdxdxdxdxdfxdFXDFXDFxdAAAAAAAAAAA\"\n",
    "n=3\n",
    "while True:\n",
    "    cadena = fuente.markovGenTexto(n)\n",
    "    print(cadena)\n",
    "    cadena2 = comp.codifica(cadena)\n",
    "    print(cadena2)\n",
    "    #cadena3= \"XD\"\n",
    "    cadena3 =comp.decodifica(cadena2)\n",
    "    print(cadena3)\n",
    "    if cadena == (cadena3):\n",
    "        print(\"CORRECTO!\")   \n",
    "    else:\n",
    "        print(\"ERROR\")\n",
    "        break\n",
    "    if n==100:\n",
    "        break\n",
    "    n+=1\n",
    "\n",
    "\n"
   ]
  },
  {
   "cell_type": "code",
   "execution_count": 146,
   "metadata": {},
   "outputs": [
    {
     "data": {
      "text/plain": [
       "19"
      ]
     },
     "execution_count": 146,
     "metadata": {},
     "output_type": "execute_result"
    }
   ],
   "source": [
    "len(\"0101111000101100100\")"
   ]
  },
  {
   "cell_type": "code",
   "execution_count": null,
   "metadata": {},
   "outputs": [],
   "source": []
  }
 ],
 "metadata": {
  "kernelspec": {
   "display_name": "Python 3",
   "language": "python",
   "name": "python3"
  },
  "language_info": {
   "codemirror_mode": {
    "name": "ipython",
    "version": 3
   },
   "file_extension": ".py",
   "mimetype": "text/x-python",
   "name": "python",
   "nbconvert_exporter": "python",
   "pygments_lexer": "ipython3",
   "version": "3.12.5"
  }
 },
 "nbformat": 4,
 "nbformat_minor": 2
}
