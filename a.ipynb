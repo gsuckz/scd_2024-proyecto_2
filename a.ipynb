{
 "cells": [
  {
   "cell_type": "code",
   "execution_count": 2,
   "metadata": {},
   "outputs": [],
   "source": [
    "import string\n",
    "\n",
    "\n",
    "def generar_tablas_markov(archivo,n):\n",
    "    tabla = {}\n",
    "    estado = []\n",
    "\n",
    "    with open(archivo , 'r', encoding='utf-8') as archivo:\n",
    "        texto = archivo.read()\n",
    "        palabras = texto.split()\n",
    "        if len(palabras) <= n:\n",
    "            return 0\n",
    "        for i in range(0,n):\n",
    "            estado.append(palabras[i])\n",
    "            palabras.append(palabras[i])\n",
    "        for i in range(n,len(palabras)):\n",
    "            palabra_leida = palabras[i]\n",
    "            estadoString = tuple(estado)\n",
    "            if estadoString in tabla:\n",
    "                if palabra_leida in tabla[estadoString]:\n",
    "                    tabla[estadoString][palabra_leida] += 1\n",
    "                else:\n",
    "                    tabla[estadoString][palabra_leida] = 1\n",
    "            else:\n",
    "                tabla[estadoString] = {}\n",
    "                tabla[estadoString][palabra_leida] = 1\n",
    "            estado.append(palabra_leida)\n",
    "            estado.remove(estado[0])\n",
    "        tabla[estadoString]\n",
    "    return tabla"
   ]
  },
  {
   "cell_type": "code",
   "execution_count": 4,
   "metadata": {},
   "outputs": [],
   "source": [
    "import random\n",
    "class markov:\n",
    "    def __init__(self,tabla):\n",
    "        self.estado = random.choice(list(tabla.keys()))\n",
    "        self.tabla = tabla\n",
    "        return\n",
    "\n",
    "\n",
    "    def markovGen(self):\n",
    "        palabra_generada = random.choices(list(self.tabla[self.estado].keys()), weights=list(self.tabla[self.estado].values()))\n",
    "        self.estado = self.estado[1:] + (palabra_generada[0],)\n",
    "        return palabra_generada[0]\n",
    "    \n",
    "    def markovGenTexto(self,k):\n",
    "        texto = \"\"\n",
    "        for i in range(0,k):\n",
    "            texto = texto + self.markovGen() + \" \"\n",
    "        return texto\n",
    "\n",
    "        \n"
   ]
  },
  {
   "cell_type": "code",
   "execution_count": 5,
   "metadata": {},
   "outputs": [
    {
     "data": {
      "text/plain": [
       "'pan y medio de la Roca la había contado de la dádiva, sino con ellos? — Ahora yo digo dél que es el desagradecimiento, ateniéndome a lo menos, monarca; que así ella como deseas, no has de poner en su lecho, donde yago tan molido y triste. Sepamos, pues, ahora, cuál es la más honrada mujer que en todo o en parte, has seguido siempre mis consejos, sigue y vuestra merced, que, a ser vuestros servidorísimos. En esto estaban, cuando sintieron a sus señores; a ellos les parece a mí a él no estaba enjuta en la cuenta de sus llagas y heridas, como si con todo eso, señor —respondió Sancho—, ni en mala suerte; que en gran parte de la de la espada y hace la justicia desinteresada y que yo no me quisiere dar la ínsula, y somos perdidos si vuestra merced ha dicho. — Está bien —dijo Sancho—, Dios me la mató un mal médico, que la que había servido de darme, y no por quien no puedo más. Y, alzando el uno tomó el Trifaldi. Venían las doce dueñas y cuantos estaban en paz y en la mortal tragedia. Las cuchilladas, estocadas, altibajos, reveses y mandobles que tiraba con mucha priesa; y así, le volvió Sancho Panza, que lo principal que ha muchos días que estoy en esta cofadría, podrá celebrar a su fama como el rey desde dentro de la burla, ni la buena intención con que don Quijote —replicó la duquesa—, más que treinta procuradores. Y, volviéndose el duque mi señor, que nos volvamos por otro respeto no lo entiendas, que no dejaban pasar adelante en esta primera afrenta que a mí haber entendido, por no poder ser ferido, porque muchas veces la experiencia de curarle, que de adorarte arrepentido. Podré yo verme en la alteza y sublimidad del camino como caballero andante, y irse donde jamás gentes le vean. Vanle administrando de sus maridos. — No ha de hacer, y la de su lengua quiere decir en ellos, como miembros de justicia, mediaron la causa por que le diesen licencia para hablar, con voz doliente y baja: Ya me comen, ya me hubieran derribado un brazo, como no la alcanzan los estremos de alabanzas que puedan mover y forzar la voluntad. — Así es —respondió don Quijote—: cierra, amigo, la puerta, y dame por testimonio, en la mollera. En resolución, últimamente me ha hecho algún servicio a Dios con lo que puedo le suplico, cuan encarecidamente puedo, os suplico me tenga respeto; y con aprobación de aquellos inocentes; mas el ventero, que vio sobre sí Clavileño; que con otras muchas cosas dignas de saberse y de boca grande, pero colorados los labios; los dientes, de tal suerte la suya, que en aquellos tres caballeros, vino al suelo, dejándole muy maltrecho. ¡Válame Dios, y sea lo que yo le llevaré bien guardado, porque pensar que su merced y le asió de la alta princesa se había ido. Trujéronsele, y, en siendo malos, son más satíricas que ejemplares, pero que me ha puesto en razón estuviere; aunque, para decir verdad, antes le habían sucedido La mujer de Sancho Panza; a lo que podía sustentar a tu mujer contigo (porque no es sustentado de alguna fiera. Finalmente, el colmilludo jabalí quedó atravesado de las cosas tienen remedio, si no hubieran precedido otras, bastaran a hacer mayores milagros se estiende, y a inclinarme a creer la continencia de su aposento hallará los vasos necesarios al menester del que ahora quiero decirte quién soy: y soy natural de un libro o fábula donde un mozo de mulas, con otros acontecimientos famosos — Paréceme, señor mío, si le asaetearan. Por otra parte, me quite que no me parece —dijo don Quijote— que tú pongas en ejecución tan mal parecer, no había de haber revuelto cien mil deshice. Hazañas di a aquella grande aventura para que no todas veces; que a todo esto doy ya por su vida, y aun otros muchos criados suyos de a caballo, con sed bien podría ser; y el barbero dieron, por entonces, ni por mal razonada, sino por complacer a mi salvo satisfacerme del agravio que se exceda en ello supiera contravenir a las manos tengo. Y, volviéndose al mayordomo, y, habiéndole preguntado al cristiano, que no para en ninguna, porque todos se burla y mentira, y por el bien que con otras muchas que me ha mudado el nombre. — Llámase —respondió el galeote. El cual quedó admirado de lo que aquel día llegase al abismo, había de llevar hasta sesenta reales. Quiso saber también si me diere gusto es enterrarme en vida. Si ya no es más fácil el quebrarse, y no comedor ni borracho. — Sí tendré, si a Francia por tierra firme; pero aquí, si no hubiera tal memoria en Sierra Morena, después de cumplido aquello que tiene ni debe tener a Luscinda, y, desabrochándole su madre había salido del coche para besar los pies a un lado del cinto, y su carga liviana; y así, puedes decir de gigantes, de follones y malandrines se acordaran de la traza del vestido que le era mandado. — Eso fuera —respondió Sancho— a la oreja, se la habéis sacado; ansí que, por tiempo y señal que no echara mi señor don Gaiferos a su aldea; y así se llama Cide Hamete puntualmente, por dejar de acometer al bien recebido, pero no satisfecho ni convencido para sacarle de la Ardiente Espada, que de algunos que, sólo por ejercitar el ingenio del huésped. A lo cual Merlín, dijo: — Sancho amigo, huye, huye destos inconvinientes, que quien la quite —dijo don Quijote—, con toda priesa se alzó de nuevo cuando vio su adeliño y notó el Caballero de los niños, no ignorada de los ojos Basilio, y, mirándola atentamente, le dijo: — Estas dos señoras que habían menester para su vana penitencia. El barbero hizo de sí tan altamente que no podía resistir la flaqueza y amarillez de mi señor? Y era la verdad, '"
      ]
     },
     "execution_count": 5,
     "metadata": {},
     "output_type": "execute_result"
    }
   ],
   "source": [
    "fuente = markov(generar_tablas_markov(\"Quijote.txt\",2))\n",
    "fuente.estado\n",
    "\n",
    "fuente.markovGen()\n",
    "fuente.markovGenTexto(1000)\n"
   ]
  },
  {
   "cell_type": "code",
   "execution_count": 106,
   "metadata": {},
   "outputs": [],
   "source": [
    "import math\n",
    "\n",
    "def encuentraCaracter(ventana,caracter):\n",
    "    #Esta funcion devuelve la posicion +1, y 0 cuando no encontro el caracter en la ventana\n",
    "    for i in range(0,len(ventana)):\n",
    "        if ventana[i] == caracter:\n",
    "            return i + 1\n",
    "    return 0\n",
    "def moverVentana(ventana, c):\n",
    "    ventana = list(ventana[1:])\n",
    "    ventana.append(c)\n",
    "    return \n",
    "def generarUnBin(n):\n",
    "    unbin = {}\n",
    "    for i in range(0,n):\n",
    "        prefijo = []\n",
    "        #for i in range(0,math.log2(n)):\n",
    "        #    prefijo = prefijo + \"0\"\n",
    "        candena_binaria = bin(n)[2:]\n",
    "        for f in range(0,len(candena_binaria)-1):\n",
    "            prefijo.append('0')\n",
    "        unbin[i] = str(prefijo) + candena_binaria\n",
    "    return unbin\n",
    "def convertirABinarioLogintudFija(n,l):\n",
    "    cadena_binaria = bin(n)[2:]\n",
    "    cadena_binaria = cadena_binaria.zfill(l)\n",
    "    return cadena_binaria\n",
    "\n"
   ]
  },
  {
   "cell_type": "code",
   "execution_count": 118,
   "metadata": {},
   "outputs": [],
   "source": [
    "class lz77(object):\n",
    "    def __init__(self,l_ventana):\n",
    "        self.l_ventana = l_ventana\n",
    "        self.unbin = generarUnBin(self.l_ventana)\n",
    "        self.posicion = l_ventana\n",
    "        self.cadena = []\n",
    "        self.offset = 0\n",
    "    \n",
    "    def agregarCadena(self, cadena):\n",
    "        #archivo = open(nombre_archivo, 'r' , encoding=\"utf-8\")\n",
    "        #self.cadena = archivo.read()\n",
    "        self.cadena = cadena\n",
    "    \n",
    "    def encuentraCoincidencia(self):\n",
    "        for i in range(0, self.l_ventana):\n",
    "            if  (self.cadena[(self.posicion - self.l_ventana) + i] == self.cadena[self.posicion + i]):\n",
    "                return i + 1\n",
    "        return 0\n",
    "    \n",
    "    def terminaCadena(self):\n",
    "        termino = 0\n",
    "        for i in range(0, self.l_ventana):\n",
    "            if not(self.cadena[(self.posicion - self.l_ventana) + self.offset + i] == self.cadena[self.posicion + i]):\n",
    "                termino=0\n",
    "                break\n",
    "        return termino\n",
    "        \n",
    "    def buscaCoincidenciaMasLarga(self):\n",
    "        n = 1\n",
    "        self.offset = 0\n",
    "        while self.encuentraCoincidencia():\n",
    "            n_nuevo = self.encuentraDiferencia()\n",
    "            if n<n_nuevo:\n",
    "                n=n_nuevo\n",
    "        return n\n",
    "    \n",
    "\n",
    "    def codifica(self, nombre_archivo):\n",
    "        \n",
    "            return\n",
    "\n",
    "\n",
    "    def decodifica(nombre_archivo):\n",
    "        return\n",
    "\n",
    "\n",
    "\n",
    "\n",
    "\n",
    "\n",
    "\n",
    "\n",
    "            \n"
   ]
  },
  {
   "cell_type": "code",
   "execution_count": 120,
   "metadata": {},
   "outputs": [
    {
     "name": "stdout",
     "output_type": "stream",
     "text": [
      "0\n"
     ]
    },
    {
     "data": {
      "text/plain": [
       "1"
      ]
     },
     "execution_count": 120,
     "metadata": {},
     "output_type": "execute_result"
    }
   ],
   "source": [
    "comp = lz77(3)\n",
    "comp.agregarCadena(\"ABCABCABC\")\n",
    "comp.encuentraCoincidencia()\n"
   ]
  },
  {
   "cell_type": "code",
   "execution_count": 107,
   "metadata": {},
   "outputs": [
    {
     "name": "stdout",
     "output_type": "stream",
     "text": [
      "SE ESCRIBE EL LITERAL\n",
      "1c\n",
      "SE ESCRIBE EL LITERAL\n",
      "1c\n",
      "OFFSET\n",
      "1\n"
     ]
    },
    {
     "ename": "UnboundLocalError",
     "evalue": "cannot access local variable 'caracter_leido' where it is not associated with a value",
     "output_type": "error",
     "traceback": [
      "\u001b[0;31m---------------------------------------------------------------------------\u001b[0m",
      "\u001b[0;31mUnboundLocalError\u001b[0m                         Traceback (most recent call last)",
      "Cell \u001b[0;32mIn[107], line 1\u001b[0m\n\u001b[0;32m----> 1\u001b[0m \u001b[43mlz77\u001b[49m\u001b[43m(\u001b[49m\u001b[38;5;124;43m\"\u001b[39;49m\u001b[38;5;124;43mtexto.txt\u001b[39;49m\u001b[38;5;124;43m\"\u001b[39;49m\u001b[43m)\u001b[49m\n",
      "Cell \u001b[0;32mIn[106], line 59\u001b[0m, in \u001b[0;36mlz77\u001b[0;34m(nombre_archivo)\u001b[0m\n\u001b[1;32m     57\u001b[0m     \u001b[38;5;28;01mbreak\u001b[39;00m\n\u001b[1;32m     58\u001b[0m \u001b[38;5;28;01mif\u001b[39;00m offset\u001b[38;5;241m:=\u001b[39m encuentraCaracter(ventana,caracter_leido):\n\u001b[0;32m---> 59\u001b[0m     n\u001b[38;5;241m=\u001b[39m \u001b[43mencuentraDiferencia\u001b[49m\u001b[43m(\u001b[49m\u001b[43marchivo\u001b[49m\u001b[43m,\u001b[49m\u001b[43mventana\u001b[49m\u001b[43m,\u001b[49m\u001b[43moffset\u001b[49m\u001b[43m)\u001b[49m                \n\u001b[1;32m     60\u001b[0m     \u001b[38;5;28;01mif\u001b[39;00m n\u001b[38;5;241m>\u001b[39m\u001b[38;5;241m2\u001b[39m:\n\u001b[1;32m     61\u001b[0m         \u001b[38;5;28mprint\u001b[39m(\u001b[38;5;124m\"\u001b[39m\u001b[38;5;124mSe escribe el desplazamiento:\u001b[39m\u001b[38;5;124m\"\u001b[39m)\n",
      "Cell \u001b[0;32mIn[106], line 34\u001b[0m, in \u001b[0;36mencuentraDiferencia\u001b[0;34m(archivo, ventana, offset)\u001b[0m\n\u001b[1;32m     32\u001b[0m \u001b[38;5;28mprint\u001b[39m(\u001b[38;5;124m\"\u001b[39m\u001b[38;5;124mOFFSET\u001b[39m\u001b[38;5;124m\"\u001b[39m)\n\u001b[1;32m     33\u001b[0m \u001b[38;5;28mprint\u001b[39m((offset))\n\u001b[0;32m---> 34\u001b[0m caracter_leido_p \u001b[38;5;241m=\u001b[39m \u001b[43mcaracter_leido\u001b[49m\n\u001b[1;32m     35\u001b[0m \u001b[38;5;28;01mfor\u001b[39;00m i \u001b[38;5;129;01min\u001b[39;00m \u001b[38;5;28mrange\u001b[39m(offset, l_ventana):\n\u001b[1;32m     36\u001b[0m     \u001b[38;5;28mprint\u001b[39m(\u001b[38;5;124m\"\u001b[39m\u001b[38;5;124mN =\u001b[39m\u001b[38;5;124m\"\u001b[39m)\n",
      "\u001b[0;31mUnboundLocalError\u001b[0m: cannot access local variable 'caracter_leido' where it is not associated with a value"
     ]
    }
   ],
   "source": [
    "lz77(\"texto.txt\")"
   ]
  },
  {
   "cell_type": "code",
   "execution_count": 89,
   "metadata": {},
   "outputs": [
    {
     "data": {
      "text/plain": [
       "'001'"
      ]
     },
     "execution_count": 89,
     "metadata": {},
     "output_type": "execute_result"
    }
   ],
   "source": [
    "convertirABinarioLogintudFija(6,3)\n",
    "a = bin(1)[2:]\n",
    "a= a.zfill(3)\n",
    "a"
   ]
  }
 ],
 "metadata": {
  "kernelspec": {
   "display_name": "Python 3",
   "language": "python",
   "name": "python3"
  },
  "language_info": {
   "codemirror_mode": {
    "name": "ipython",
    "version": 3
   },
   "file_extension": ".py",
   "mimetype": "text/x-python",
   "name": "python",
   "nbconvert_exporter": "python",
   "pygments_lexer": "ipython3",
   "version": "3.12.5"
  }
 },
 "nbformat": 4,
 "nbformat_minor": 2
}
