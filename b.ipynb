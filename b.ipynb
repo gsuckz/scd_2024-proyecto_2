{
 "cells": [
  {
   "cell_type": "code",
   "execution_count": 69,
   "metadata": {},
   "outputs": [],
   "source": [
    "#Los valores a codificar deben ser mayores a 1\n",
    "\n",
    "def unBinCod(num):\n",
    "    cadenaBinaria = bin(num)[2:]\n",
    "    return  \"0\"*(len(cadenaBinaria)-1) + cadenaBinaria\n",
    "def unBinDecod(unbin): \n",
    "    # Sea n la cantidad de ceros hasta el primer uno\n",
    "    # Interpretar el primer uno y los siguientes n bits como binario natural y retornar su valor\n",
    "    i = 0\n",
    "    while unbin[i] == '0':\n",
    "        i+=1\n",
    "    return int(unbin[i:2*i+1],2)\n"
   ]
  },
  {
   "cell_type": "code",
   "execution_count": 85,
   "metadata": {},
   "outputs": [
    {
     "data": {
      "text/plain": [
       "10"
      ]
     },
     "execution_count": 85,
     "metadata": {},
     "output_type": "execute_result"
    }
   ],
   "source": [
    "unBinDecod(unBinCod(10)+unBinCod(12312)+unBinCod(59))"
   ]
  },
  {
   "cell_type": "code",
   "execution_count": 17,
   "metadata": {},
   "outputs": [],
   "source": [
    "for i in range (1,10000):\n",
    "    if i != unBinDecod(unBinCod(i)):\n",
    "        print(f\"ERROR Esperado={i}, Obtenido={unBinCod(i)}\")\n",
    "        break"
   ]
  },
  {
   "cell_type": "code",
   "execution_count": 66,
   "metadata": {},
   "outputs": [],
   "source": [
    "def binarioLFija(num,longitud):\n",
    "    cadena =  str(bin(num)[2:])\n",
    "    assert len(cadena) <= longitud\n",
    "    return cadena.zfill(longitud)"
   ]
  },
  {
   "cell_type": "code",
   "execution_count": 35,
   "metadata": {},
   "outputs": [
    {
     "data": {
      "text/plain": [
       "'1010'"
      ]
     },
     "execution_count": 35,
     "metadata": {},
     "output_type": "execute_result"
    }
   ],
   "source": [
    "str(bin(10)[2:])"
   ]
  },
  {
   "cell_type": "code",
   "execution_count": 37,
   "metadata": {},
   "outputs": [
    {
     "data": {
      "text/plain": [
       "'00001010'"
      ]
     },
     "execution_count": 37,
     "metadata": {},
     "output_type": "execute_result"
    }
   ],
   "source": [
    "binarioLFija(10,8)"
   ]
  },
  {
   "cell_type": "code",
   "execution_count": 53,
   "metadata": {},
   "outputs": [
    {
     "name": "stdout",
     "output_type": "stream",
     "text": [
      "4 Es un numero demasiado grande\n",
      "4 Es un numero demasiado grande\n",
      "ERROR, obtenido = 0 Longitud Esperada = 2\n",
      "OK\n",
      "8 Es un numero demasiado grande\n",
      "8 Es un numero demasiado grande\n",
      "ERROR, obtenido = 0 Longitud Esperada = 3\n",
      "OK\n",
      "16 Es un numero demasiado grande\n",
      "16 Es un numero demasiado grande\n",
      "ERROR, obtenido = 0 Longitud Esperada = 4\n",
      "OK\n",
      "32 Es un numero demasiado grande\n",
      "32 Es un numero demasiado grande\n",
      "ERROR, obtenido = 0 Longitud Esperada = 5\n",
      "OK\n",
      "64 Es un numero demasiado grande\n",
      "64 Es un numero demasiado grande\n",
      "ERROR, obtenido = 0 Longitud Esperada = 6\n",
      "OK\n",
      "128 Es un numero demasiado grande\n",
      "128 Es un numero demasiado grande\n",
      "ERROR, obtenido = 0 Longitud Esperada = 7\n",
      "OK\n",
      "256 Es un numero demasiado grande\n",
      "256 Es un numero demasiado grande\n",
      "ERROR, obtenido = 0 Longitud Esperada = 8\n",
      "OK\n",
      "512 Es un numero demasiado grande\n",
      "512 Es un numero demasiado grande\n",
      "ERROR, obtenido = 0 Longitud Esperada = 9\n",
      "OK\n",
      "1024 Es un numero demasiado grande\n",
      "1024 Es un numero demasiado grande\n",
      "ERROR, obtenido = 0 Longitud Esperada = 10\n",
      "OK\n",
      "2048 Es un numero demasiado grande\n",
      "2048 Es un numero demasiado grande\n",
      "ERROR, obtenido = 0 Longitud Esperada = 11\n",
      "OK\n",
      "4096 Es un numero demasiado grande\n",
      "4096 Es un numero demasiado grande\n",
      "ERROR, obtenido = 0 Longitud Esperada = 12\n",
      "OK\n",
      "8192 Es un numero demasiado grande\n",
      "8192 Es un numero demasiado grande\n",
      "ERROR, obtenido = 0 Longitud Esperada = 13\n",
      "OK\n",
      "OK\n",
      "OK\n",
      "OK\n",
      "OK\n",
      "OK\n",
      "OK\n",
      "OK\n",
      "OK\n",
      "OK\n",
      "OK\n",
      "OK\n",
      "OK\n",
      "OK\n",
      "OK\n",
      "OK\n",
      "OK\n",
      "OK\n",
      "OK\n",
      "OK\n",
      "OK\n",
      "OK\n",
      "OK\n",
      "OK\n",
      "OK\n",
      "OK\n",
      "OK\n",
      "OK\n",
      "OK\n",
      "OK\n",
      "OK\n",
      "OK\n",
      "OK\n",
      "OK\n",
      "OK\n",
      "OK\n",
      "OK\n",
      "OK\n",
      "OK\n",
      "OK\n",
      "OK\n",
      "OK\n",
      "OK\n",
      "OK\n",
      "OK\n",
      "OK\n",
      "OK\n",
      "OK\n",
      "OK\n",
      "OK\n",
      "OK\n",
      "OK\n",
      "OK\n",
      "OK\n",
      "OK\n",
      "OK\n",
      "OK\n",
      "OK\n",
      "OK\n",
      "OK\n",
      "OK\n",
      "OK\n",
      "OK\n",
      "OK\n",
      "OK\n",
      "OK\n",
      "OK\n",
      "OK\n",
      "OK\n",
      "OK\n",
      "OK\n",
      "OK\n",
      "OK\n",
      "OK\n",
      "OK\n",
      "OK\n",
      "OK\n",
      "OK\n",
      "OK\n",
      "OK\n",
      "OK\n",
      "OK\n",
      "OK\n",
      "OK\n",
      "OK\n",
      "OK\n",
      "OK\n"
     ]
    }
   ],
   "source": [
    "longitud = 10 \n",
    "for longitud in range(2,100):\n",
    "    for i in range(0,10000):\n",
    "        if len(binarioLFija(i,longitud)) != longitud:\n",
    "            print(f\"ERROR, obtenido = {binarioLFija(i,longitud)} Longitud Esperada = {longitud}\")\n",
    "            break\n",
    "    print(\"OK\")"
   ]
  },
  {
   "cell_type": "code",
   "execution_count": 81,
   "metadata": {},
   "outputs": [],
   "source": [
    "def decoBinarioLFija(cadena,longitud):\n",
    "    assert len(cadena)>=longitud\n",
    "    return int(cadena[:longitud],2)"
   ]
  },
  {
   "cell_type": "code",
   "execution_count": 83,
   "metadata": {},
   "outputs": [
    {
     "data": {
      "text/plain": [
       "170"
      ]
     },
     "execution_count": 83,
     "metadata": {},
     "output_type": "execute_result"
    }
   ],
   "source": [
    "decoBinarioLFija(\"10101010\",8)"
   ]
  },
  {
   "cell_type": "code",
   "execution_count": 82,
   "metadata": {},
   "outputs": [
    {
     "data": {
      "text/plain": [
       "170"
      ]
     },
     "execution_count": 82,
     "metadata": {},
     "output_type": "execute_result"
    }
   ],
   "source": [
    "decoBinarioLFija(\"1010101010101010101010101010101\",8)"
   ]
  },
  {
   "cell_type": "code",
   "execution_count": 84,
   "metadata": {},
   "outputs": [
    {
     "ename": "AssertionError",
     "evalue": "",
     "output_type": "error",
     "traceback": [
      "\u001b[0;31m---------------------------------------------------------------------------\u001b[0m",
      "\u001b[0;31mAssertionError\u001b[0m                            Traceback (most recent call last)",
      "Cell \u001b[0;32mIn[84], line 4\u001b[0m\n\u001b[1;32m      2\u001b[0m \u001b[38;5;28;01mfor\u001b[39;00m longitud \u001b[38;5;129;01min\u001b[39;00m \u001b[38;5;28mrange\u001b[39m(\u001b[38;5;241m2\u001b[39m,\u001b[38;5;241m100\u001b[39m):\n\u001b[1;32m      3\u001b[0m     \u001b[38;5;28;01mfor\u001b[39;00m i \u001b[38;5;129;01min\u001b[39;00m \u001b[38;5;28mrange\u001b[39m(\u001b[38;5;241m0\u001b[39m,\u001b[38;5;241m10000\u001b[39m):\n\u001b[0;32m----> 4\u001b[0m         \u001b[38;5;28;01mif\u001b[39;00m decoBinarioLFija(\u001b[43mbinarioLFija\u001b[49m\u001b[43m(\u001b[49m\u001b[43mi\u001b[49m\u001b[43m,\u001b[49m\u001b[43mlongitud\u001b[49m\u001b[43m)\u001b[49m,longitud) \u001b[38;5;241m!=\u001b[39m i:\n\u001b[1;32m      5\u001b[0m             \u001b[38;5;28mprint\u001b[39m(\u001b[38;5;124mf\u001b[39m\u001b[38;5;124m\"\u001b[39m\u001b[38;5;124mERROR, obtenido = \u001b[39m\u001b[38;5;132;01m{\u001b[39;00mbinarioLFija(i,longitud)\u001b[38;5;132;01m}\u001b[39;00m\u001b[38;5;124m Esperado = \u001b[39m\u001b[38;5;132;01m{\u001b[39;00mi\u001b[38;5;132;01m}\u001b[39;00m\u001b[38;5;124m\"\u001b[39m)\n\u001b[1;32m      6\u001b[0m             \u001b[38;5;28;01mbreak\u001b[39;00m\n",
      "Cell \u001b[0;32mIn[66], line 3\u001b[0m, in \u001b[0;36mbinarioLFija\u001b[0;34m(num, longitud)\u001b[0m\n\u001b[1;32m      1\u001b[0m \u001b[38;5;28;01mdef\u001b[39;00m \u001b[38;5;21mbinarioLFija\u001b[39m(num,longitud):\n\u001b[1;32m      2\u001b[0m     cadena \u001b[38;5;241m=\u001b[39m  \u001b[38;5;28mstr\u001b[39m(\u001b[38;5;28mbin\u001b[39m(num)[\u001b[38;5;241m2\u001b[39m:])\n\u001b[0;32m----> 3\u001b[0m     \u001b[38;5;28;01massert\u001b[39;00m \u001b[38;5;28mlen\u001b[39m(cadena) \u001b[38;5;241m<\u001b[39m\u001b[38;5;241m=\u001b[39m longitud\n\u001b[1;32m      4\u001b[0m     \u001b[38;5;28;01mreturn\u001b[39;00m cadena\u001b[38;5;241m.\u001b[39mzfill(longitud)\n",
      "\u001b[0;31mAssertionError\u001b[0m: "
     ]
    }
   ],
   "source": [
    "longitud = 10 \n",
    "for longitud in range(2,100):\n",
    "    for i in range(0,10000):\n",
    "        if decoBinarioLFija(binarioLFija(i,longitud),longitud) != i:\n",
    "            print(f\"ERROR, obtenido = {binarioLFija(i,longitud)} Esperado = {i}\")\n",
    "            break\n",
    "    print(\"OK\")"
   ]
  },
  {
   "cell_type": "code",
   "execution_count": null,
   "metadata": {},
   "outputs": [],
   "source": [
    "def decoUtf8(cadena):\n",
    "    if cadena[:0]"
   ]
  }
 ],
 "metadata": {
  "kernelspec": {
   "display_name": "Python 3",
   "language": "python",
   "name": "python3"
  },
  "language_info": {
   "codemirror_mode": {
    "name": "ipython",
    "version": 3
   },
   "file_extension": ".py",
   "mimetype": "text/x-python",
   "name": "python",
   "nbconvert_exporter": "python",
   "pygments_lexer": "ipython3",
   "version": "3.12.5"
  }
 },
 "nbformat": 4,
 "nbformat_minor": 2
}
