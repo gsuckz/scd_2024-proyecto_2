{
 "cells": [
  {
   "cell_type": "code",
   "execution_count": 1,
   "metadata": {},
   "outputs": [],
   "source": [
    "import string\n",
    "\n",
    "\n",
    "def generar_tablas_markov(archivo,n):\n",
    "    tabla = {}\n",
    "    estado = []\n",
    "\n",
    "    with open(archivo , 'r', encoding='utf-8') as archivo:\n",
    "        texto = archivo.read()\n",
    "        palabras = texto.split()\n",
    "        if len(palabras) <= n:\n",
    "            return 0\n",
    "        for i in range(0,n):\n",
    "            estado.append(palabras[i])\n",
    "            palabras.append(palabras[i])\n",
    "        for i in range(n,len(palabras)):\n",
    "            palabra_leida = palabras[i]\n",
    "            estadoString = tuple(estado)\n",
    "            if estadoString in tabla:\n",
    "                if palabra_leida in tabla[estadoString]:\n",
    "                    tabla[estadoString][palabra_leida] += 1\n",
    "                else:\n",
    "                    tabla[estadoString][palabra_leida] = 1\n",
    "            else:\n",
    "                tabla[estadoString] = {}\n",
    "                tabla[estadoString][palabra_leida] = 1\n",
    "            estado.append(palabra_leida)\n",
    "            estado.remove(estado[0])\n",
    "        tabla[estadoString]\n",
    "    return tabla"
   ]
  },
  {
   "cell_type": "code",
   "execution_count": 2,
   "metadata": {},
   "outputs": [],
   "source": [
    "import random\n",
    "class markov:\n",
    "    def __init__(self,tabla):\n",
    "        self.estado = random.choice(list(tabla.keys()))\n",
    "        self.tabla = tabla\n",
    "        return\n",
    "\n",
    "\n",
    "    def markovGen(self):\n",
    "        palabra_generada = random.choices(list(self.tabla[self.estado].keys()), weights=list(self.tabla[self.estado].values()))\n",
    "        self.estado = self.estado[1:] + (palabra_generada[0],)\n",
    "        return palabra_generada[0]\n",
    "    \n",
    "    def markovGenTexto(self,k):\n",
    "        texto = \"\"\n",
    "        for i in range(0,k):\n",
    "            texto = texto + self.markovGen() + \" \"\n",
    "        return texto\n",
    "\n",
    "        \n"
   ]
  },
  {
   "cell_type": "code",
   "execution_count": 3,
   "metadata": {},
   "outputs": [],
   "source": [
    "import math\n",
    "def moverVentana(ventana, c):\n",
    "    ventana = list(ventana[1:])\n",
    "    ventana.append(c)\n",
    "    return \n",
    "def unBin(valor):\n",
    "    #for i in range(0,math.log2(n)):\n",
    "    #    prefijo = prefijo + \"0\"\n",
    "    prefijo = []\n",
    "    candena_binaria = str( bin(valor)[2:])\n",
    "    #for f in range(0,len(candena_binaria)-1):\n",
    "    #    prefijo.append('0')\n",
    "    #unbin = str(prefijo) + candena_binaria\n",
    "    unbin = candena_binaria.zfill(2*len(candena_binaria) -1)\n",
    "    return unbin\n",
    "\n",
    "def convertirABinarioLFija(n,l):\n",
    "    cadena_binaria = bin(n)[2:]\n",
    "    cadena_binaria = str(cadena_binaria.zfill(l))\n",
    "    return cadena_binaria\n",
    "\n",
    "\n"
   ]
  },
  {
   "cell_type": "code",
   "execution_count": 4,
   "metadata": {},
   "outputs": [
    {
     "data": {
      "text/plain": [
       "'0001000'"
      ]
     },
     "execution_count": 4,
     "metadata": {},
     "output_type": "execute_result"
    }
   ],
   "source": [
    "unBin(8)"
   ]
  },
  {
   "cell_type": "code",
   "execution_count": 5,
   "metadata": {},
   "outputs": [],
   "source": [
    "def caracterABinario(texto):\n",
    "    return ''.join(format(byte,'08b') for byte in texto.encode('utf-8'))\n",
    "\n",
    "def BinarioACaracter(binario: str):\n",
    "    #Se puede optimizar recibiendo solo el 1er byte y buscando el resto si es necesario.\n",
    "    if len(binario) != 32:\n",
    "        binario = binario.ljust(32, '0')\n",
    "    bytes_list = [int(binario[i:i + 8], 2) for i in range(0, 32, 8)]\n",
    "    if bytes_list[0] < 128:\n",
    "        return chr(bytes_list[0]), 1\n",
    "    if 192 <= bytes_list[0] < 224:\n",
    "        if len(bytes_list) >= 2:\n",
    "            codigo = ((bytes_list[0] & 0x1F) << 6) | (bytes_list[1] & 0x3F)\n",
    "            return chr(codigo), 2\n",
    "    if 224 <= bytes_list[0] < 240:\n",
    "        if len(bytes_list) >= 3:\n",
    "            codigo = ((bytes_list[0] & 0x0F) << 12) | ((bytes_list[1] & 0x3F) << 6) | (bytes_list[2] & 0x3F)\n",
    "            return chr(codigo), 3\n",
    "    if 240 <= bytes_list[0] < 248:\n",
    "        if len(bytes_list) >= 4:\n",
    "            codigo = ((bytes_list[0] & 0x07) << 18) | ((bytes_list[1] & 0x3F) << 12) | ((bytes_list[2] & 0x3F) << 6) | (bytes_list[3] & 0x3F)\n",
    "            return chr(codigo), 4\n",
    "    return None, 0\n"
   ]
  },
  {
   "cell_type": "code",
   "execution_count": 219,
   "metadata": {},
   "outputs": [],
   "source": [
    "class lz77(object):\n",
    "    def __init__(self,l_ventana):\n",
    "        self.l_ventana = l_ventana\n",
    "        self.posicion = l_ventana\n",
    "        self.cadena = []\n",
    "        self.offset = 0\n",
    "        self.offset_max = 0\n",
    "        self.n = 1\n",
    "        self.salida = []\n",
    "\n",
    "    def encuentraCoincidencia(self): #Busca ultima coicidencia\n",
    "        if self.offset > self.l_ventana:\n",
    "            return False\n",
    "        for i in range(self.offset + 1 , self.l_ventana + 1):\n",
    "            ##########print(f\"Leido {self.cadena[self.posicion - i]}, Buscando {self.cadena[self.posicion]}\")\n",
    "            if  (self.cadena[self.posicion -  i] == self.cadena[self.posicion]):\n",
    "                #####print(f\"Se encontro {self.cadena[self.posicion - i]} en la posicion {i} de la ventana, buscaba {self.cadena[self.posicion]}\")\n",
    "                #print(f\"Ventana {self.cadena[self.posicion-8 : self.posicion]}\")\n",
    "                self.offset = i \n",
    "                return  True\n",
    "        return False\n",
    "          \n",
    "    def buscaDiferencia(self):\n",
    "        i=1\n",
    "        while True:\n",
    "            if self.posicion + i  >= len(self.cadena):\n",
    "                break\n",
    "            #if self.cadena[self.posicion - self.offset + i%(self.offset)] != self.cadena[self.posicion + i]:\n",
    "            if self.cadena[self.posicion - self.offset  + i%(self.offset)] != self.cadena[self.posicion + i]:\n",
    "                #print(f\"Esperaba {self.cadena[self.posicion +i]}, y encontro {self.cadena[self.posicion - self.offset + i]}\")\n",
    "                #print(f\"offset = {self.offset}, i = {i}\")\n",
    "                break\n",
    "            i = i+1\n",
    "        if self.n < i:\n",
    "            self.n=i\n",
    "            self.offset_max = self.offset\n",
    "            #print(f\"offset = {self.offset}, i = {i}\")   \n",
    "        return\n",
    "        \n",
    "    def buscaCoincidenciaMasLarga(self):\n",
    "        self.offset = 0\n",
    "        self.offset_max = 0\n",
    "        self.n = 1\n",
    "        while self.encuentraCoincidencia():\n",
    "            self.buscaDiferencia()\n",
    "        return \n",
    "    \n",
    "    def escribir(self):\n",
    "        if self.n < 3:\n",
    "            self.salida = self.salida + \"1\"\n",
    "            self.salida = self.salida + caracterABinario(self.cadena[self.posicion])    \n",
    "            #print(f\"Se arego literal {self.cadena[self.posicion]}\")   \n",
    "            self.n =1        \n",
    "\n",
    "        else:\n",
    "            \n",
    "            self.salida = self.salida + unBin(self.n) + convertirABinarioLFija(self.offset_max,  int(math.log2(self.l_ventana))+1)\n",
    "            #print(f\"Desplazamiento {self.offset_max}, Cantidad de Bits {self.n}\")\n",
    "            #print(f\"REPETICION {self.cadena[self.posicion - self.offset_max :self.posicion - self.offset_max + self.n]}\")\n",
    "            #print(f\"CADENA {self.cadena[:self.posicion]}\")\n",
    "\n",
    "    def moverVentana(self):\n",
    "        #Seria mejor quitar elementos de cadena antes que mover posicion?\n",
    "        self.posicion = self.posicion + self.n\n",
    "        self.n = 1\n",
    "\n",
    "    def codifica(self, cadena, ventana): #ventana debe ser potencia de 2\n",
    "        #Que pasa si recibe una cadena mas corta que la ventana??\n",
    "        self.l_ventana = ventana # tamaño de la ventana en simbolos\n",
    "        self.cadena = cadena # mensaje\n",
    "        cadena_l_v = bin(self.l_ventana)[2:]\n",
    "        self.salida = cadena_l_v.zfill(16)\n",
    "        a=len(cadena) #esta bien suponer conocida la longitud de la cadena a codificar?\n",
    "        if  len(cadena) <= self.l_ventana:\n",
    "            for i in range(0,a):\n",
    "                self.salida = self.salida + \"1\" + caracterABinario(self.cadena[i])\n",
    "            longitud_salida = bin(len(self.salida) - 16)[2:]\n",
    "            #print(f\"Longitud cadena{len(self.salida)}\")\n",
    "            #print(f\"{longitud_salida.zfill(32)}\")\n",
    "            #print(len(self.salida) - 16)\n",
    "            #print(longitud_salida.zfill(32))\n",
    "            self.salida = longitud_salida.zfill(32) + self.salida\n",
    "            #print(self.salida)\n",
    "            return self.salida        \n",
    "        for i in range(0,self.l_ventana):\n",
    "            self.salida = self.salida + \"1\" + caracterABinario(self.cadena[i])\n",
    "        self.posicion = self.l_ventana \n",
    "        #print(self.cadena[self.posicion])\n",
    "        while True:\n",
    "            self.buscaCoincidenciaMasLarga()\n",
    "            self.escribir()\n",
    "            self.moverVentana()\n",
    "            if self.posicion >= len(cadena):\n",
    "                break\n",
    "        longitud_salida = bin(len(self.salida) - 16)[2:]\n",
    "        #print(f\"Longitud cadena{len(self.salida) - 8}\")\n",
    "        #print(longitud_salida.zfill(32))\n",
    "        self.salida = longitud_salida.zfill(32) + self.salida\n",
    "        return self.salida\n",
    "\n",
    "    def decodifica(self, cadena):\n",
    "        #print(\"DECO\")\n",
    "        self.l_cadena = int(cadena[:32],2) + 48\n",
    "        #print(cadena[:32])\n",
    "        #print(cadena)\n",
    "        self.l_ventana = int(cadena[32:48],2)\n",
    "        #print(f\"LONGINTUD CADENA = {self.l_cadena}\")\n",
    "        #print(f\"long ventana = {self.l_ventana}\")\n",
    "        #print(f\"Longitud cadena medida = {len(cadena) }\")\n",
    "        self.cadena = cadena\n",
    "        self.salida = \"\"\n",
    "        self.posicion = 48\n",
    "        while self.posicion < self.l_cadena :\n",
    "           # print(f\"{self.posicion}, de {self.l_cadena}\")\n",
    "            if self.cadena[self.posicion] == '1':\n",
    "                self.posicion +=1\n",
    "                caracter, longcar = BinarioACaracter(self.cadena[self.posicion:self.posicion+32])\n",
    "                self.salida = self.salida + caracter\n",
    "                #print(f\"Encontrado Literar {caracter}\")\n",
    "                self.posicion += 8*longcar\n",
    "            elif self.cadena[self.posicion] == '0':\n",
    "                n_cero=1\n",
    "                #print(self.cadena[self.posicion-1:self.posicion +12])\n",
    "                while  self.cadena[self.posicion + n_cero] == '0':\n",
    "                    n_cero +=1                            \n",
    "                    if self.posicion + n_cero >= len(cadena):\n",
    "                        print(\"ERROR XD\")\n",
    "                        break \n",
    "                n = int(self.cadena[self.posicion+n_cero : self.posicion+2*n_cero+1],2)\n",
    "                #print(f\"nbits {self.cadena[self.posicion+n_cero : self.posicion+2*n_cero+1]}\")\n",
    "                self.posicion= self.posicion + 2*n_cero +1\n",
    "                pos = int(self.cadena[self.posicion:(self.posicion  + int(math.log2(self.l_ventana))+1)],2)\n",
    "                #print(f\"pos {self.cadena[self.posicion:(self.posicion  + int(math.log2(self.l_ventana))+1)]}\")\n",
    "                #print(f\"Se encontro SHIFT OFFSET {pos} Cantidad de Bits{n} ventana {self.salida}\")\n",
    "                for i in range(0,n):                                    \n",
    "                    self.salida = self.salida + self.salida[len(self.salida)-pos]   \n",
    "                self.posicion = (self.posicion +int(math.log2(self.l_ventana))+1 )\n",
    "                #a = (self.posicion +int(math.log2(self.l_ventana)) )\n",
    "                #if a < self.l_cadena:\n",
    "                #    self.posicion = a\n",
    "                #else:\n",
    "                #    break            \n",
    "            else:\n",
    "                print(\"ERROR\")\n",
    "                print(self.posicion)\n",
    "                print(self.cadena[self.posicion-1::])\n",
    "                break\n",
    "            #print(f\"SALIDA HASTA AHORA {self.salida}\")\n",
    "        #print(f\"RECORRIDA HASTA {self.posicion}\")\n",
    "        return self.salida\n",
    "    \n",
    "comp = lz77(8)\n",
    "fuente = markov(generar_tablas_markov(\"Quijote.txt\",2))"
   ]
  },
  {
   "cell_type": "code",
   "execution_count": 222,
   "metadata": {},
   "outputs": [
    {
     "name": "stdout",
     "output_type": "stream",
     "text": [
      "OK\n"
     ]
    }
   ],
   "source": [
    "a=comp.decodifica((comp.codifica(\"abcdefghabcabcabcabcabcab\",8)))\n",
    "##print(a)\n",
    "#print(f\"CADENA ORIGINAL {8*len(\"abcdabcdabcdabcdabcdabcdabcdabcd\")}, COMPRIMIDO {len(a)}\")\n",
    "if a == \"abcdefghabcabcabcabcabcab\":\n",
    "    print(\"OK\")\n",
    "else:\n",
    "    print(\"abcdfghabcabcabcabcabcab\")\n",
    "    print(a)\n",
    "#print(a)\n"
   ]
  },
  {
   "cell_type": "code",
   "execution_count": 205,
   "metadata": {},
   "outputs": [
    {
     "data": {
      "text/plain": [
       "'0001110'"
      ]
     },
     "execution_count": 205,
     "metadata": {},
     "output_type": "execute_result"
    }
   ],
   "source": [
    "unBin(14)"
   ]
  },
  {
   "cell_type": "code",
   "execution_count": 207,
   "metadata": {},
   "outputs": [
    {
     "data": {
      "text/plain": [
       "'1000'"
      ]
     },
     "execution_count": 207,
     "metadata": {},
     "output_type": "execute_result"
    }
   ],
   "source": [
    "convertirABinarioLFija(8,3)"
   ]
  },
  {
   "cell_type": "code",
   "execution_count": 221,
   "metadata": {},
   "outputs": [
    {
     "name": "stdout",
     "output_type": "stream",
     "text": [
      "Razon de Compresion = 0.8153618906942393, 552, 677\n",
      "Razon de Compresion = 0.8638838475499092, 952, 1102\n",
      "Razon de Compresion = 0.8656361474435196, 1456, 1682\n",
      "Razon de Compresion = 0.9710224166211044, 1776, 1829\n",
      "Razon de Compresion = 0.9681293302540416, 2096, 2165\n",
      "Razon de Compresion = 0.9758274451468948, 2624, 2689\n",
      "Razon de Compresion = 1.0333218825145998, 3008, 2911\n",
      "Razon de Compresion = 1.0457516339869282, 3360, 3213\n",
      "Razon de Compresion = 1.0297215071378423, 4400, 4273\n",
      "Razon de Compresion = 1.0339192869522158, 4176, 4039\n"
     ]
    }
   ],
   "source": [
    "cadena = \"ASDaksdjasvdASDASDxdxdxdxdxdfxdFXDFXDFxdAAAAAAAAAAA\"\n",
    "n=10\n",
    "while True:\n",
    "    cadena = fuente.markovGenTexto(n)\n",
    "    \n",
    "    cadena2 = comp.codifica(cadena,64) #Longitd ventana debe ser potencia de 2\n",
    "    cadena3 =comp.decodifica(cadena2)\n",
    "    if cadena != cadena3: \n",
    "        print(f\"CALOR DE N  {n}\")\n",
    "        print(cadena + \"FIN\")\n",
    "        print(len(cadena))        \n",
    "        print(cadena3 + \"FIN\")\n",
    "        print(len(cadena3))        \n",
    "        break\n",
    "    else:\n",
    "        razon_de_compresion = 8*(len(cadena)/len(cadena2))\n",
    "        print(f\"Razon de Compresion = {razon_de_compresion}, {8*len(cadena)}, {len(cadena2)}\")\n",
    "    if n==100:\n",
    "        break\n",
    "    n+=10\n"
   ]
  },
  {
   "cell_type": "code",
   "execution_count": 27,
   "metadata": {},
   "outputs": [
    {
     "data": {
      "text/plain": [
       "17"
      ]
     },
     "execution_count": 27,
     "metadata": {},
     "output_type": "execute_result"
    }
   ],
   "source": [
    "len(\"abcabcabcabcabcab\")"
   ]
  },
  {
   "cell_type": "code",
   "execution_count": 23,
   "metadata": {},
   "outputs": [
    {
     "name": "stdout",
     "output_type": "stream",
     "text": [
      "['101100001', '101100010', '101100011', '101100100', '101100101', '101100110', '101100111', '101100001', '101100010', '101100011', '000111001', '1']\n",
      "a\n",
      "b\n",
      "c\n",
      "d\n",
      "e\n",
      "f\n",
      "g\n",
      "a\n",
      "b\n",
      "c\n",
      "9\n"
     ]
    },
    {
     "ename": "ValueError",
     "evalue": "invalid literal for int() with base 2: ''",
     "output_type": "error",
     "traceback": [
      "\u001b[0;31m---------------------------------------------------------------------------\u001b[0m",
      "\u001b[0;31mValueError\u001b[0m                                Traceback (most recent call last)",
      "Cell \u001b[0;32mIn[23], line 4\u001b[0m\n\u001b[1;32m      2\u001b[0m \u001b[38;5;28mprint\u001b[39m(char_list)\n\u001b[1;32m      3\u001b[0m \u001b[38;5;28;01mfor\u001b[39;00m i \u001b[38;5;129;01min\u001b[39;00m \u001b[38;5;28mrange\u001b[39m (\u001b[38;5;241m0\u001b[39m, \u001b[38;5;28mlen\u001b[39m(char_list)):\n\u001b[0;32m----> 4\u001b[0m     \u001b[38;5;28mprint\u001b[39m(\u001b[38;5;28mchr\u001b[39m(\u001b[38;5;28;43mint\u001b[39;49m\u001b[43m(\u001b[49m\u001b[43mchar_list\u001b[49m\u001b[43m[\u001b[49m\u001b[43mi\u001b[49m\u001b[43m]\u001b[49m\u001b[43m[\u001b[49m\u001b[38;5;241;43m1\u001b[39;49m\u001b[43m:\u001b[49m\u001b[43m]\u001b[49m\u001b[43m,\u001b[49m\u001b[38;5;241;43m2\u001b[39;49m\u001b[43m)\u001b[49m))\n",
      "\u001b[0;31mValueError\u001b[0m: invalid literal for int() with base 2: ''"
     ]
    }
   ],
   "source": [
    "char_list = [a[i:i + 9] for i in range(0, len(a), 9)]\n",
    "print(char_list)\n",
    "for i in range (0, len(char_list)):\n",
    "    print(chr(int(char_list[i][1:],2)))"
   ]
  }
 ],
 "metadata": {
  "kernelspec": {
   "display_name": "Python 3",
   "language": "python",
   "name": "python3"
  },
  "language_info": {
   "codemirror_mode": {
    "name": "ipython",
    "version": 3
   },
   "file_extension": ".py",
   "mimetype": "text/x-python",
   "name": "python",
   "nbconvert_exporter": "python",
   "pygments_lexer": "ipython3",
   "version": "3.12.5"
  }
 },
 "nbformat": 4,
 "nbformat_minor": 2
}
