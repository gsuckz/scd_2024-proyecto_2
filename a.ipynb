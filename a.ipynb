{
 "cells": [
  {
   "cell_type": "code",
   "execution_count": 18,
   "metadata": {},
   "outputs": [],
   "source": [
    "import string\n",
    "\n",
    "\n",
    "def generar_tablas_markov(archivo,n):\n",
    "    tabla = {}\n",
    "    estado = []\n",
    "\n",
    "    with open(archivo , 'r', encoding='utf-8') as archivo:\n",
    "        texto = archivo.read()\n",
    "        palabras = texto.split()\n",
    "        if len(palabras) <= n:\n",
    "            return 0\n",
    "        for i in range(0,n):\n",
    "            estado.append(palabras[i])\n",
    "            palabras.append(palabras[i])\n",
    "        for i in range(n,len(palabras)):\n",
    "            palabra_leida = palabras[i]\n",
    "            estadoString = tuple(estado)\n",
    "            if estadoString in tabla:\n",
    "                if palabra_leida in tabla[estadoString]:\n",
    "                    tabla[estadoString][palabra_leida] += 1\n",
    "                else:\n",
    "                    tabla[estadoString][palabra_leida] = 1\n",
    "            else:\n",
    "                tabla[estadoString] = {}\n",
    "                tabla[estadoString][palabra_leida] = 1\n",
    "            estado.append(palabra_leida)\n",
    "            estado.remove(estado[0])\n",
    "        tabla[estadoString]\n",
    "    return tabla"
   ]
  },
  {
   "cell_type": "code",
   "execution_count": 19,
   "metadata": {},
   "outputs": [],
   "source": [
    "import random\n",
    "class markov:\n",
    "    def __init__(self,tabla):\n",
    "        self.estado = random.choice(list(tabla.keys()))\n",
    "        self.tabla = tabla\n",
    "        return\n",
    "\n",
    "\n",
    "    def markovGen(self):\n",
    "        palabra_generada = random.choices(list(self.tabla[self.estado].keys()), weights=list(self.tabla[self.estado].values()))\n",
    "        self.estado = self.estado[1:] + (palabra_generada[0],)\n",
    "        return palabra_generada[0]\n",
    "    \n",
    "    def markovGenTexto(self,k):\n",
    "        texto = \"\"\n",
    "        for i in range(0,k):\n",
    "            texto = texto + self.markovGen() + \" \"\n",
    "        return texto\n",
    "\n",
    "        \n"
   ]
  },
  {
   "cell_type": "code",
   "execution_count": 20,
   "metadata": {},
   "outputs": [
    {
     "data": {
      "text/plain": [
       "'don Quijote—, porque muchos teólogos hay que replicar, como al cielo que nos abrasasen, pero la voz y del mucho leer, se le puso en más que el amor que me agradecía la voluntad del pueblo lo podré hacer eso —respondió Sancho—, se cuentan mil zarandajas tan impertinentes como cada cristiano está obligado a cumplirlo, sabed que yo dél vuelva y cobre todos mis descendientes si de veras las decías, no consintiera que tan blanco pusieron a mirar a un desesperado son debidas- canten obsequias tristes, doloridas, al cuerpo a alfilerazos y azotes, no me entremeto. — Pues así es —dijo el cura— algún beneficio, simple o agudo causa no pequeño trabajo. »Yo, pues, era uno de los que me va dando orden cómo se ha de hacer. De allí a muchos príncipes que otro día vino a correrse y a lo menos —respondió don Quijote—, te le he servido en todos los sentidos. Y así, prosiguiendo su cuento, y en su tierra. Y así, se levantó y tomó de memoria, de la ballena. — Así es la verdad —respondió el del Bosque pasó con el buey, que si es tan bueno como yo no pensé que sacaba la daga en el suelo, y la nota de cruel, ningún oprobrio hace a costa de las faltas, ni el canto de las entrañas de Sierra Morena. — ¿Bardas de corral se te acabe el curso de la gran magnificencia vuestra, señor caballero, de no sé para qué tener envidia a los ojos, y, aun con vuestra merced tiene razón —dijo don Quijote—. ¿Soy yo, por malos de mis costillas, ni flechas de mi voz tuerza. Y al momento quien se humilla, Dios le saque desta sima, donde tus pecados te deben de ser así —replicó el del Bosque— yo daré la obra de las viudas, en ninguna manera; y que alargase la sátira, y la señal que me dan pesadumbre; ya te entiendo, Sancho! Y muchas veces; y si yo le haré más daño, puesto que verdaderamente es de loco y un grandísimo trecho en la pelea de la observancia que guardan en los campos de Montiel, que fue para don Quijote de en uno de vosotros porque no podemos ir juntos por los montes anda buscando peligrosas aventuras, con intención de pelear con él había leído en sus versos, algunos elegantes y algunos ridículos, y sólo tomó de memoria en un instante a contar lo que venía a perder el sumo grado que no estaban los negocios, para que pudiese azotarle con ellas, el miedo que había hecho en mi mala ventura; que no acompaña esa grandeza y calidad deste remedio, el tesoro de hermosura a un tiempo. Pero, volviendo al Roto, prosiguió diciendo: — ¿No os dije los pusieron en ala, y, levantando las voces de tus bellos ojos estaban heridos— de quererla seguir, sin aprovecharse del manifiesto desengaño que habían de alborotar la tierra, con tal traje y en hora maza —dijo a esta sazón acudieron los amigos no se le hará volver en volandas. — Harásme mucho placer, amigo —dijo don Quijote—, y es que acaso vuestra merced el mesmo jumento, sin haber parecido. También dicen que el sol en su partida. Capítulo VI. Del donoso y grande amigo mío —proseguí—, yo determino que el pastor puso por obra ésta que a mí me hace y la nata de los quince ni pasaba de largo; pero don Quijote, a quien os tengo dicho, fuera ahorrar el camino era tan hermosa, recatada, discreta y desenvuelta Altisidora, doncella más antojadiza que discreta, tenga que ver, después de lo mismo, que si otro soneto o otros versos sabía, los dijese: »—Sí sé —respondió Lotario—, no encubriera yo nada, porque cuando se los había vuelto, y que bien pudiera ella, antes que llegue la noche. Entre las señas del mandamiento que a buena fe que si él aquí estuviera, no consintiera que se los presté; pero, por ver si descubriría algún castillo donde sea curado de mis hazañas. Mira lo que habemos de andar; y lo es la mayor parte suntuosos templos: las cenizas del cuerpo en algún inexpugnable castillo o alguna sacristanía, que les faltaba, al llegar a ella, antes de su dueño; y así, dijo que su padre en su ser natural condición de los malos, ni pie ni entrada. Y paréceme a mí —añadió Sanchica— que diga lo que quisiese. »—Aunque la conociera —respondió Lotario—, no encubriera yo nada, porque cuando algún pintor quiere salir famoso en su perjuicio, sacase a luz al Ingenioso hidalgo don Quijote sana desta herida o caída y yo también, de hoy están por venir, ni las armas que habían quitado a tu eleción el alojarnos. Pero dame acá la mano derecha, que tenía de leerla, prosiguió el cuento, y don Quijote, cómo vuestra merced —respondió Sancho— que desde allí a poco a poco más a tan buena que hallé a Luscinda por más loco que hay hoy caballeros andantes ejemplo que me trocaron en la maleta donde se había de ser el más desalmado pecho del mesmo pueblo, decía que la deben de haber acontecido a Lotario, pero, en cuanto podía el cuello del rucio a buscar a Lotario, el cual término no le asegurara su amo se lo hubiese preguntado: que fue muy admitido entre los tapices, y con ir industriado de sus buenas partes adornada. Cumplíselos yo, por te engrandecer, de hoy no tengo fuerzas para sujetar las mías, criadas entre sinabafas y holandas, claro está que ha de ir caballero, como no la leyó, porque dijo que traía, comieron los dos regidores, a pie quedo. Y así, prosiguiendo su historia, y no hay ninguno), todo lo provechoso, honesto y deleitable que hay en el punto determinado en que vuesa merced que, siendo él tan travieso y malo que no tenía siete palmos de lengua en tantas cosas, que él pondría remedio con que el cielo ya les había movido a mudar religión entender ella que llorar toda la infinita '"
      ]
     },
     "execution_count": 20,
     "metadata": {},
     "output_type": "execute_result"
    }
   ],
   "source": [
    "fuente = markov(generar_tablas_markov(\"Quijote.txt\",2))\n",
    "fuente.estado\n",
    "\n",
    "fuente.markovGen()\n",
    "fuente.markovGenTexto(1000)\n"
   ]
  },
  {
   "cell_type": "code",
   "execution_count": 21,
   "metadata": {},
   "outputs": [],
   "source": [
    "import math\n",
    "\n",
    "\n",
    "def moverVentana(ventana, c):\n",
    "    ventana = list(ventana[1:])\n",
    "    ventana.append(c)\n",
    "    return \n",
    "def unBin(valor):\n",
    "    #for i in range(0,math.log2(n)):\n",
    "    #    prefijo = prefijo + \"0\"\n",
    "    prefijo = []\n",
    "    candena_binaria = str( bin(valor)[2:])\n",
    "    #for f in range(0,len(candena_binaria)-1):\n",
    "    #    prefijo.append('0')\n",
    "    #unbin = str(prefijo) + candena_binaria\n",
    "    unbin = candena_binaria.zfill(2*len(candena_binaria) -1)\n",
    "    return unbin\n",
    "\n",
    "def convertirABinarioLFija(n,l):\n",
    "    cadena_binaria = bin(n)[2:]\n",
    "    cadena_binaria = str(cadena_binaria.zfill(l))\n",
    "    return cadena_binaria\n",
    "\n",
    "\n"
   ]
  },
  {
   "cell_type": "code",
   "execution_count": 22,
   "metadata": {},
   "outputs": [],
   "source": [
    "def caracterABinario(texto):\n",
    "    return ''.join(format(byte,'08b') for byte in texto.encode('utf-8'))"
   ]
  },
  {
   "cell_type": "code",
   "execution_count": 41,
   "metadata": {},
   "outputs": [],
   "source": [
    "#def BinarioACaracter(bits):\n",
    "#    lista_de_bits = []\n",
    "#    for i in range(0,len(bits)):\n",
    "#        print(i)\n",
    "#        print(bits[i*8:(i+1)*8 - 1])\n",
    "#        x = int(bits[i*8:(i+1)*8], 2)\n",
    "#        #print(x)\n",
    "#        lista_de_bits.append(chr(x))\n",
    "#    return lista_de_bits\n",
    "\n",
    "#def BinarioACaracter(binary_str):\n",
    "#    # Asegúrate de que la cadena tiene una longitud múltiplo de 8\n",
    "#    if len(binary_str) % 8 != 0:\n",
    "#        raise ValueError(\"La cadena binaria debe tener una longitud múltiplo de 8.\")\n",
    "#\n",
    "#    # Convertir bloques de 8 bits a caracteres\n",
    "#    utf8_chars = []\n",
    "#    for i in range(0, len(binary_str), 8):\n",
    "#        byte_str = binary_str[i:i+8]\n",
    "#        byte_value = int(byte_str, 2)  # Convertir binario a decimal\n",
    "#        utf8_chars.append(chr(byte_value))  # Convertir decimal a carácter\n",
    "#\n",
    "#    return ''.join(utf8_chars)\n",
    "\n",
    "def BinarioACaracter(binario):\n",
    "    # Asegurarse de que la cadena tenga exactamente 16 caracteres (2 bytes de 8 bits cada uno)\n",
    "    if len(binario) != 16:\n",
    "        return None, 0\n",
    "\n",
    "    # Separar la cadena en dos bytes\n",
    "    byte1 = int(binario[:8], 2)  # Primer byte (8 primeros bits)\n",
    "    byte2 = int(binario[8:], 2)  # Segundo byte (8 últimos bits)\n",
    "\n",
    "    # Caso 1: Si el primer byte es ASCII (1 byte)\n",
    "    if byte1 < 128:  # ASCII usa solo 1 byte\n",
    "        return chr(byte1), 1\n",
    "\n",
    "    # Caso 2: Si el primer byte indica que es un carácter de 2 bytes\n",
    "    if 192 <= byte1 < 224:  # 110xxxxx en binario indica 2 bytes\n",
    "        # Combinar los dos bytes en un solo código Unicode\n",
    "        codigo = ((byte1 & 0x1F) << 6) | (byte2 & 0x3F)\n",
    "        return chr(codigo), 2\n",
    "\n",
    "    # Si no se puede decodificar\n",
    "    return None, 0\n"
   ]
  },
  {
   "cell_type": "code",
   "execution_count": 61,
   "metadata": {},
   "outputs": [
    {
     "data": {
      "text/plain": [
       "('f', 1)"
      ]
     },
     "execution_count": 61,
     "metadata": {},
     "output_type": "execute_result"
    }
   ],
   "source": [
    "BinarioACaracter(\"0110011010111010\")"
   ]
  },
  {
   "cell_type": "code",
   "execution_count": 60,
   "metadata": {},
   "outputs": [
    {
     "data": {
      "text/plain": [
       "16"
      ]
     },
     "execution_count": 60,
     "metadata": {},
     "output_type": "execute_result"
    }
   ],
   "source": [
    "len(\"0110011010111010\")"
   ]
  },
  {
   "cell_type": "code",
   "execution_count": 30,
   "metadata": {},
   "outputs": [
    {
     "data": {
      "text/plain": [
       "'Él'"
      ]
     },
     "execution_count": 30,
     "metadata": {},
     "output_type": "execute_result"
    }
   ],
   "source": [
    "BinarioACaracter(caracterABinario(\"Él\"))"
   ]
  },
  {
   "cell_type": "code",
   "execution_count": 63,
   "metadata": {},
   "outputs": [],
   "source": [
    "class lz77(object):\n",
    "    def __init__(self,l_ventana):\n",
    "        self.l_ventana = l_ventana\n",
    "        self.posicion = l_ventana\n",
    "        self.cadena = []\n",
    "        self.offset = 0\n",
    "        self.offset_max = 0\n",
    "        self.n = 1\n",
    "        self.salida = []\n",
    "\n",
    "    def encuentraCoincidencia(self): #Busca ultima coicidencia\n",
    "        #self.offset +=1\n",
    "        if self.offset >= self.l_ventana:\n",
    "            return False\n",
    "        for i in range(self.offset + 1 , self.l_ventana):\n",
    "            if  (self.cadena[self.posicion -  i] == self.cadena[self.posicion]):\n",
    "                self.offset = i\n",
    "                return  True\n",
    "        return False\n",
    "          \n",
    "    def buscaDiferencia(self):\n",
    "        i=1\n",
    "        while True:\n",
    "            if self.posicion + i  >= len(self.cadena):\n",
    "                break\n",
    "            if self.cadena[self.posicion - self.offset + i%(self.offset)] != self.cadena[self.posicion + i]:\n",
    "                break\n",
    "            i = i+1\n",
    "        if self.n < i:\n",
    "            self.n=i\n",
    "            self.offset_max = self.offset\n",
    "        return\n",
    "        \n",
    "    def buscaCoincidenciaMasLarga(self):\n",
    "        self.offset = 0\n",
    "        self.offset_max = 0\n",
    "        self.n = 1\n",
    "        while self.encuentraCoincidencia():\n",
    "            self.buscaDiferencia()\n",
    "        return \n",
    "    \n",
    "    def escribir(self):\n",
    "        match self.n:\n",
    "            case 1:\n",
    "                self.salida = self.salida + \"1\"\n",
    "                #self.salida = self.salida + self.cadena[self.posicion]\n",
    "                self.salida = self.salida + caracterABinario(self.cadena[self.posicion])\n",
    "                \n",
    "            case 2:\n",
    "                self.salida = self.salida + \"1\"\n",
    "                #self.salida = self.salida + self.cadena[self.posicion]             \n",
    "                self.salida = self.salida + caracterABinario(self.cadena[self.posicion])\n",
    "                self.salida = self.salida + \"1\"\n",
    "                #self.salida = self.salida + self.cadena[self.posicion+1]  \n",
    "                self.salida = self.salida + caracterABinario(self.cadena[self.posicion+1])\n",
    "            case _:\n",
    "                self.salida = self.salida + unBin(self.n) + convertirABinarioLFija(self.offset_max,  int(math.log2(self.l_ventana)))\n",
    "\n",
    "    def moverVentana(self):\n",
    "        #Seria mejor quitar elementos de cadena antes que mover posicion?\n",
    "        self.posicion = self.posicion + self.n\n",
    "        self.n = 1\n",
    "\n",
    "    def codifica(self, cadena): #len(cadena) debe ser mayor a 1 ¿O a la l_ventana?\n",
    "        #Que pasa si recibe una cadena mas corta que la ventana??\n",
    "        self.cadena = cadena\n",
    "        self.posicion = 0\n",
    "        self.salida = \"\"\n",
    "        for i in range(0,self.l_ventana):\n",
    "            self.salida = self.salida + \"1\" + caracterABinario(self.cadena[i])\n",
    "        while True:\n",
    "            self.buscaCoincidenciaMasLarga()\n",
    "            self.escribir()\n",
    "            self.moverVentana()\n",
    "            if self.posicion == len(cadena):\n",
    "                break\n",
    "        return self.salida\n",
    "\n",
    "    def decodifica(self, cadena):\n",
    "        self.cadena = cadena\n",
    "        self.salida = \"\"\n",
    "        self.posicion = 0\n",
    "        while self.posicion < len(self.cadena):\n",
    "            if self.cadena[self.posicion] == '1':\n",
    "                print(\"LITERAL\")\n",
    "                #self.posicion +=1\n",
    "                #self.salida = self.salida + (self.cadena[self.posicion])\n",
    "                #self.posicion +=1\n",
    "                self.posicion +=1\n",
    "                caracter, longcar = BinarioACaracter(self.cadena[self.posicion:self.posicion+16])\n",
    "                print(f\"Caracter = {caracter}, Bytes = {longcar}\")\n",
    "                self.salida = self.salida + caracter\n",
    "                self.posicion += 8*longcar\n",
    "            elif self.cadena[self.posicion] == '0':\n",
    "                print(\"SHIFT\")\n",
    "                n_cero=1\n",
    "                while  self.cadena[self.posicion + n_cero] == '0':\n",
    "                    print(self.salida)\n",
    "                    n_cero +=1                            \n",
    "                    if self.posicion + n_cero >= len(cadena):\n",
    "                        print(\"ERROR XD\")\n",
    "                        break \n",
    "                n = int(self.cadena[self.posicion+n_cero : self.posicion+2*n_cero+1],2)\n",
    "                self.posicion= self.posicion + 2*n_cero +1\n",
    "                pos = int(self.cadena[self.posicion:(self.posicion  + int(math.log2(self.l_ventana)))],2)\n",
    "                for i in range(0,n):\n",
    "                    #print(\"POSICION\")\n",
    "                    #print(len(self.salida)-pos)\n",
    "                    #print(len(self.salida))                                        \n",
    "                    self.salida = self.salida + self.salida[len(self.salida)-pos]   \n",
    "                a = (self.posicion +int(math.log2(self.l_ventana)) )\n",
    "                if a < len(self.cadena):\n",
    "                    self.posicion = a\n",
    "                else:\n",
    "                    break\n",
    "            else:\n",
    "                print(\"XD\")\n",
    "                print(self.posicion)\n",
    "                print(self.cadena[self.posicion-1::])\n",
    "                break\n",
    "            print(self.salida)\n",
    "\n",
    "        return self.salida"
   ]
  },
  {
   "cell_type": "code",
   "execution_count": 64,
   "metadata": {},
   "outputs": [
    {
     "name": "stdout",
     "output_type": "stream",
     "text": [
      "que no hay \n",
      "101110001101110101101100101100100000101101110101101111100100000101101000101110001101110101101100101100100000101101110101101111100100000101101000101100001101111001100100000\n",
      "LITERAL\n",
      "Caracter = ֋, Bytes = 2\n",
      "֋\n",
      "SHIFT\n",
      "֋\n"
     ]
    },
    {
     "ename": "IndexError",
     "evalue": "string index out of range",
     "output_type": "error",
     "traceback": [
      "\u001b[1;31m---------------------------------------------------------------------------\u001b[0m",
      "\u001b[1;31mIndexError\u001b[0m                                Traceback (most recent call last)",
      "Cell \u001b[1;32mIn[64], line 11\u001b[0m\n\u001b[0;32m      9\u001b[0m \u001b[38;5;28mprint\u001b[39m(cadena2)\n\u001b[0;32m     10\u001b[0m \u001b[38;5;66;03m#cadena3= \"XD\"\u001b[39;00m\n\u001b[1;32m---> 11\u001b[0m cadena3 \u001b[38;5;241m=\u001b[39m\u001b[43mcomp\u001b[49m\u001b[38;5;241;43m.\u001b[39;49m\u001b[43mdecodifica\u001b[49m\u001b[43m(\u001b[49m\u001b[43mcadena2\u001b[49m\u001b[43m)\u001b[49m\n\u001b[0;32m     12\u001b[0m \u001b[38;5;28mprint\u001b[39m(cadena3)\n\u001b[0;32m     13\u001b[0m \u001b[38;5;28;01mif\u001b[39;00m cadena \u001b[38;5;241m==\u001b[39m (cadena3):\n",
      "Cell \u001b[1;32mIn[63], line 109\u001b[0m, in \u001b[0;36mlz77.decodifica\u001b[1;34m(self, cadena)\u001b[0m\n\u001b[0;32m    104\u001b[0m pos \u001b[38;5;241m=\u001b[39m \u001b[38;5;28mint\u001b[39m(\u001b[38;5;28mself\u001b[39m\u001b[38;5;241m.\u001b[39mcadena[\u001b[38;5;28mself\u001b[39m\u001b[38;5;241m.\u001b[39mposicion:(\u001b[38;5;28mself\u001b[39m\u001b[38;5;241m.\u001b[39mposicion  \u001b[38;5;241m+\u001b[39m \u001b[38;5;28mint\u001b[39m(math\u001b[38;5;241m.\u001b[39mlog2(\u001b[38;5;28mself\u001b[39m\u001b[38;5;241m.\u001b[39ml_ventana)))],\u001b[38;5;241m2\u001b[39m)\n\u001b[0;32m    105\u001b[0m \u001b[38;5;28;01mfor\u001b[39;00m i \u001b[38;5;129;01min\u001b[39;00m \u001b[38;5;28mrange\u001b[39m(\u001b[38;5;241m0\u001b[39m,n):\n\u001b[0;32m    106\u001b[0m     \u001b[38;5;66;03m#print(\"POSICION\")\u001b[39;00m\n\u001b[0;32m    107\u001b[0m     \u001b[38;5;66;03m#print(len(self.salida)-pos)\u001b[39;00m\n\u001b[0;32m    108\u001b[0m     \u001b[38;5;66;03m#print(len(self.salida))                                        \u001b[39;00m\n\u001b[1;32m--> 109\u001b[0m     \u001b[38;5;28mself\u001b[39m\u001b[38;5;241m.\u001b[39msalida \u001b[38;5;241m=\u001b[39m \u001b[38;5;28mself\u001b[39m\u001b[38;5;241m.\u001b[39msalida \u001b[38;5;241m+\u001b[39m \u001b[38;5;28;43mself\u001b[39;49m\u001b[38;5;241;43m.\u001b[39;49m\u001b[43msalida\u001b[49m\u001b[43m[\u001b[49m\u001b[38;5;28;43mlen\u001b[39;49m\u001b[43m(\u001b[49m\u001b[38;5;28;43mself\u001b[39;49m\u001b[38;5;241;43m.\u001b[39;49m\u001b[43msalida\u001b[49m\u001b[43m)\u001b[49m\u001b[38;5;241;43m-\u001b[39;49m\u001b[43mpos\u001b[49m\u001b[43m]\u001b[49m   \n\u001b[0;32m    110\u001b[0m a \u001b[38;5;241m=\u001b[39m (\u001b[38;5;28mself\u001b[39m\u001b[38;5;241m.\u001b[39mposicion \u001b[38;5;241m+\u001b[39m\u001b[38;5;28mint\u001b[39m(math\u001b[38;5;241m.\u001b[39mlog2(\u001b[38;5;28mself\u001b[39m\u001b[38;5;241m.\u001b[39ml_ventana)) )\n\u001b[0;32m    111\u001b[0m \u001b[38;5;28;01mif\u001b[39;00m a \u001b[38;5;241m<\u001b[39m \u001b[38;5;28mlen\u001b[39m(\u001b[38;5;28mself\u001b[39m\u001b[38;5;241m.\u001b[39mcadena):\n",
      "\u001b[1;31mIndexError\u001b[0m: string index out of range"
     ]
    }
   ],
   "source": [
    "comp = lz77(8)\n",
    "fuente = markov(generar_tablas_markov(\"Quijote.txt\",2))\n",
    "cadena = \"ASDaksdjasvdASDASDxdxdxdxdxdfxdFXDFXDFxdAAAAAAAAAAA\"\n",
    "n=3\n",
    "while True:\n",
    "    cadena = fuente.markovGenTexto(n)\n",
    "    print(cadena)\n",
    "    cadena2 = comp.codifica(cadena)\n",
    "    print(cadena2)\n",
    "    #cadena3= \"XD\"\n",
    "    cadena3 =comp.decodifica(cadena2)\n",
    "    print(cadena3)\n",
    "    if cadena == (cadena3):\n",
    "        print(\"CORRECTO!\")   \n",
    "    else:\n",
    "        print(\"ERROR\")\n",
    "        break\n",
    "    if n==100:\n",
    "        break\n",
    "    n+=1\n",
    "\n",
    "\n"
   ]
  },
  {
   "cell_type": "code",
   "execution_count": 13,
   "metadata": {},
   "outputs": [
    {
     "data": {
      "text/plain": [
       "19"
      ]
     },
     "execution_count": 13,
     "metadata": {},
     "output_type": "execute_result"
    }
   ],
   "source": [
    "len(\"0101111000101100100\")"
   ]
  },
  {
   "cell_type": "code",
   "execution_count": null,
   "metadata": {},
   "outputs": [],
   "source": []
  }
 ],
 "metadata": {
  "kernelspec": {
   "display_name": "Python 3",
   "language": "python",
   "name": "python3"
  },
  "language_info": {
   "codemirror_mode": {
    "name": "ipython",
    "version": 3
   },
   "file_extension": ".py",
   "mimetype": "text/x-python",
   "name": "python",
   "nbconvert_exporter": "python",
   "pygments_lexer": "ipython3",
   "version": "3.12.5"
  }
 },
 "nbformat": 4,
 "nbformat_minor": 2
}
